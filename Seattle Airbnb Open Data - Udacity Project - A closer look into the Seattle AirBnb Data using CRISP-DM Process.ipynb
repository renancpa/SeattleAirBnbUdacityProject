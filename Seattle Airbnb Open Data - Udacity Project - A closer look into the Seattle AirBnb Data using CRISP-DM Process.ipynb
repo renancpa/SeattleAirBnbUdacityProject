{
 "cells": [
  {
   "cell_type": "markdown",
   "id": "938c62f6",
   "metadata": {},
   "source": [
    "# 1. Business Understanding"
   ]
  },
  {
   "cell_type": "markdown",
   "id": "3926b944",
   "metadata": {},
   "source": [
    "Airbnb, Inc. is an American company providing an online marketplace for short- and long-term homestays and experiences. Acting as a broker, it charges a commission on each booking. Founded in 2008 by Brian Chesky, Nathan Blecharczyk, and Joe Gebbia, Airbnb evolved from its original name, AirBedandBreakfast.com. It is the leading platform for short-term housing rentals. - Taken from Airbnb's Wikipedia page. Using the dataset Provided, we will dive into the following business questions"
   ]
  },
  {
   "cell_type": "markdown",
   "id": "06cb228b",
   "metadata": {},
   "source": [
    "The project structure was took from the study based by Alexander Hipp, and you can deep dive on his study on the \n",
    "- https://github.com/AlexanderHipp/airbnb-seattle-udacity-project/blob/master/airbnb-sesattle-udacity-project.ipynb"
   ]
  },
  {
   "cell_type": "markdown",
   "id": "dd4ad9be",
   "metadata": {},
   "source": [
    "## Pricing Trends\n",
    "\n",
    "- How do prices vary by season, and when is the peak season in Seattle?\n",
    "- How do prices differ by neighborhood, and which neighborhoods in Seattle are the most expensive?\n",
    "- How do different property types within neighborhoods affect prices, particularly in the priciest neighborhoods and for the most common property types?\n"
   ]
  },
  {
   "cell_type": "markdown",
   "id": "c13770b5",
   "metadata": {},
   "source": [
    "## Sentiment Analysis of Reviews\n",
    "\n",
    "\n",
    "\n",
    "- How can we categorize reviews based on sentiment?\n",
    "- Can we map positive and negative sentiments from reviews to neighborhoods to determine which ones have higher positive sentiment and which have higher negative sentiment?\n",
    "- Can we analyze some of the worst reviews for additional insights?\n",
    "\n",
    "## Price Prediction\n",
    "\n",
    "- Can we predict the price of a given listing? What listing factors are most strongly correlated with price predictions?\n",
    "\n",
    "Understanding pricing trends can help identify peak seasons and expensive neighborhoods in Seattle, allowing Airbnb to manage inventory and optimize marketing strategies.\n",
    "\n",
    "Sentiment analysis of reviews can provide insights into brand perception and customer satisfaction. Mapping sentiments to neighborhoods can highlight areas with recurring issues and those that are well-regarded.\n",
    "\n",
    "Price prediction helps identify the factors most strongly correlated with listing prices, enabling Airbnb and hosts to focus on key features that influence pricing."
   ]
  },
  {
   "cell_type": "markdown",
   "id": "a08784c1",
   "metadata": {},
   "source": [
    "# 2. Data Understanding"
   ]
  },
  {
   "cell_type": "code",
   "execution_count": 1,
   "id": "5878f61c",
   "metadata": {},
   "outputs": [],
   "source": [
    "# Import statements\n",
    "import numpy as np\n",
    "import pandas as pd\n",
    "import matplotlib.pyplot as plt\n",
    "from IPython import display\n",
    "%matplotlib inline\n",
    "import seaborn as sns\n",
    "import nltk\n",
    "from nltk.sentiment.vader import SentimentIntensityAnalyzer\n",
    "from collections import Counter\n",
    "from sklearn.model_selection import train_test_split\n",
    "from sklearn.linear_model import LinearRegression\n",
    "from sklearn.metrics import r2_score\n"
   ]
  },
  {
   "cell_type": "code",
   "execution_count": 2,
   "id": "437b7717",
   "metadata": {},
   "outputs": [],
   "source": [
    "#load the 3 main datasets\n",
    "df_calendar = pd.read_csv('./calendar.csv')\n",
    "df_reviews = pd.read_csv('./reviews.csv')\n",
    "df_listings = pd.read_csv('./listings.csv')\n"
   ]
  },
  {
   "cell_type": "markdown",
   "id": "c4d22e73",
   "metadata": {},
   "source": [
    "## df_calendar - Data understanding"
   ]
  },
  {
   "cell_type": "code",
   "execution_count": 3,
   "id": "74fbbce5",
   "metadata": {},
   "outputs": [
    {
     "data": {
      "text/html": [
       "<div>\n",
       "<style scoped>\n",
       "    .dataframe tbody tr th:only-of-type {\n",
       "        vertical-align: middle;\n",
       "    }\n",
       "\n",
       "    .dataframe tbody tr th {\n",
       "        vertical-align: top;\n",
       "    }\n",
       "\n",
       "    .dataframe thead th {\n",
       "        text-align: right;\n",
       "    }\n",
       "</style>\n",
       "<table border=\"1\" class=\"dataframe\">\n",
       "  <thead>\n",
       "    <tr style=\"text-align: right;\">\n",
       "      <th></th>\n",
       "      <th>listing_id</th>\n",
       "      <th>date</th>\n",
       "      <th>available</th>\n",
       "      <th>price</th>\n",
       "    </tr>\n",
       "  </thead>\n",
       "  <tbody>\n",
       "    <tr>\n",
       "      <th>0</th>\n",
       "      <td>241032</td>\n",
       "      <td>2016-01-04</td>\n",
       "      <td>t</td>\n",
       "      <td>$85.00</td>\n",
       "    </tr>\n",
       "    <tr>\n",
       "      <th>1</th>\n",
       "      <td>241032</td>\n",
       "      <td>2016-01-05</td>\n",
       "      <td>t</td>\n",
       "      <td>$85.00</td>\n",
       "    </tr>\n",
       "    <tr>\n",
       "      <th>2</th>\n",
       "      <td>241032</td>\n",
       "      <td>2016-01-06</td>\n",
       "      <td>f</td>\n",
       "      <td>NaN</td>\n",
       "    </tr>\n",
       "    <tr>\n",
       "      <th>3</th>\n",
       "      <td>241032</td>\n",
       "      <td>2016-01-07</td>\n",
       "      <td>f</td>\n",
       "      <td>NaN</td>\n",
       "    </tr>\n",
       "    <tr>\n",
       "      <th>4</th>\n",
       "      <td>241032</td>\n",
       "      <td>2016-01-08</td>\n",
       "      <td>f</td>\n",
       "      <td>NaN</td>\n",
       "    </tr>\n",
       "    <tr>\n",
       "      <th>...</th>\n",
       "      <td>...</td>\n",
       "      <td>...</td>\n",
       "      <td>...</td>\n",
       "      <td>...</td>\n",
       "    </tr>\n",
       "    <tr>\n",
       "      <th>1393565</th>\n",
       "      <td>10208623</td>\n",
       "      <td>2016-12-29</td>\n",
       "      <td>f</td>\n",
       "      <td>NaN</td>\n",
       "    </tr>\n",
       "    <tr>\n",
       "      <th>1393566</th>\n",
       "      <td>10208623</td>\n",
       "      <td>2016-12-30</td>\n",
       "      <td>f</td>\n",
       "      <td>NaN</td>\n",
       "    </tr>\n",
       "    <tr>\n",
       "      <th>1393567</th>\n",
       "      <td>10208623</td>\n",
       "      <td>2016-12-31</td>\n",
       "      <td>f</td>\n",
       "      <td>NaN</td>\n",
       "    </tr>\n",
       "    <tr>\n",
       "      <th>1393568</th>\n",
       "      <td>10208623</td>\n",
       "      <td>2017-01-01</td>\n",
       "      <td>f</td>\n",
       "      <td>NaN</td>\n",
       "    </tr>\n",
       "    <tr>\n",
       "      <th>1393569</th>\n",
       "      <td>10208623</td>\n",
       "      <td>2017-01-02</td>\n",
       "      <td>f</td>\n",
       "      <td>NaN</td>\n",
       "    </tr>\n",
       "  </tbody>\n",
       "</table>\n",
       "<p>1393570 rows × 4 columns</p>\n",
       "</div>"
      ],
      "text/plain": [
       "         listing_id        date available   price\n",
       "0            241032  2016-01-04         t  $85.00\n",
       "1            241032  2016-01-05         t  $85.00\n",
       "2            241032  2016-01-06         f     NaN\n",
       "3            241032  2016-01-07         f     NaN\n",
       "4            241032  2016-01-08         f     NaN\n",
       "...             ...         ...       ...     ...\n",
       "1393565    10208623  2016-12-29         f     NaN\n",
       "1393566    10208623  2016-12-30         f     NaN\n",
       "1393567    10208623  2016-12-31         f     NaN\n",
       "1393568    10208623  2017-01-01         f     NaN\n",
       "1393569    10208623  2017-01-02         f     NaN\n",
       "\n",
       "[1393570 rows x 4 columns]"
      ]
     },
     "execution_count": 3,
     "metadata": {},
     "output_type": "execute_result"
    }
   ],
   "source": [
    "df_calendar"
   ]
  },
  {
   "cell_type": "code",
   "execution_count": 4,
   "id": "a9b1b2e1",
   "metadata": {},
   "outputs": [
    {
     "data": {
      "text/plain": [
       "(1393570, 4)"
      ]
     },
     "execution_count": 4,
     "metadata": {},
     "output_type": "execute_result"
    }
   ],
   "source": [
    "df_calendar.shape"
   ]
  },
  {
   "cell_type": "code",
   "execution_count": 5,
   "id": "92515566",
   "metadata": {},
   "outputs": [
    {
     "data": {
      "text/plain": [
       "listing_id         0\n",
       "date               0\n",
       "available          0\n",
       "price         459028\n",
       "dtype: int64"
      ]
     },
     "execution_count": 5,
     "metadata": {},
     "output_type": "execute_result"
    }
   ],
   "source": [
    "df_calendar.isnull().sum()"
   ]
  },
  {
   "cell_type": "code",
   "execution_count": 6,
   "id": "debdec83",
   "metadata": {},
   "outputs": [
    {
     "data": {
      "text/plain": [
       "0"
      ]
     },
     "execution_count": 6,
     "metadata": {},
     "output_type": "execute_result"
    }
   ],
   "source": [
    "df_calendar[(df_calendar['available'] == 't') & (df_calendar['price'].isna())].shape[0]\n"
   ]
  },
  {
   "cell_type": "code",
   "execution_count": 7,
   "id": "887bd075",
   "metadata": {},
   "outputs": [
    {
     "data": {
      "text/plain": [
       "459028"
      ]
     },
     "execution_count": 7,
     "metadata": {},
     "output_type": "execute_result"
    }
   ],
   "source": [
    "df_calendar[(df_calendar['available'] == 'f') & (df_calendar['price'].isna())].shape[0]"
   ]
  },
  {
   "cell_type": "code",
   "execution_count": 8,
   "id": "fbbf068d",
   "metadata": {},
   "outputs": [
    {
     "data": {
      "text/html": [
       "<div>\n",
       "<style scoped>\n",
       "    .dataframe tbody tr th:only-of-type {\n",
       "        vertical-align: middle;\n",
       "    }\n",
       "\n",
       "    .dataframe tbody tr th {\n",
       "        vertical-align: top;\n",
       "    }\n",
       "\n",
       "    .dataframe thead th {\n",
       "        text-align: right;\n",
       "    }\n",
       "</style>\n",
       "<table border=\"1\" class=\"dataframe\">\n",
       "  <thead>\n",
       "    <tr style=\"text-align: right;\">\n",
       "      <th></th>\n",
       "      <th>listing_id</th>\n",
       "      <th>date</th>\n",
       "      <th>available</th>\n",
       "      <th>price</th>\n",
       "    </tr>\n",
       "  </thead>\n",
       "  <tbody>\n",
       "    <tr>\n",
       "      <th>count</th>\n",
       "      <td>1.393570e+06</td>\n",
       "      <td>1393570</td>\n",
       "      <td>1393570</td>\n",
       "      <td>934542</td>\n",
       "    </tr>\n",
       "    <tr>\n",
       "      <th>unique</th>\n",
       "      <td>NaN</td>\n",
       "      <td>365</td>\n",
       "      <td>2</td>\n",
       "      <td>669</td>\n",
       "    </tr>\n",
       "    <tr>\n",
       "      <th>top</th>\n",
       "      <td>NaN</td>\n",
       "      <td>2016-01-04</td>\n",
       "      <td>t</td>\n",
       "      <td>$150.00</td>\n",
       "    </tr>\n",
       "    <tr>\n",
       "      <th>freq</th>\n",
       "      <td>NaN</td>\n",
       "      <td>3818</td>\n",
       "      <td>934542</td>\n",
       "      <td>36646</td>\n",
       "    </tr>\n",
       "    <tr>\n",
       "      <th>mean</th>\n",
       "      <td>5.550111e+06</td>\n",
       "      <td>NaN</td>\n",
       "      <td>NaN</td>\n",
       "      <td>NaN</td>\n",
       "    </tr>\n",
       "    <tr>\n",
       "      <th>std</th>\n",
       "      <td>2.962274e+06</td>\n",
       "      <td>NaN</td>\n",
       "      <td>NaN</td>\n",
       "      <td>NaN</td>\n",
       "    </tr>\n",
       "    <tr>\n",
       "      <th>min</th>\n",
       "      <td>3.335000e+03</td>\n",
       "      <td>NaN</td>\n",
       "      <td>NaN</td>\n",
       "      <td>NaN</td>\n",
       "    </tr>\n",
       "    <tr>\n",
       "      <th>25%</th>\n",
       "      <td>3.258213e+06</td>\n",
       "      <td>NaN</td>\n",
       "      <td>NaN</td>\n",
       "      <td>NaN</td>\n",
       "    </tr>\n",
       "    <tr>\n",
       "      <th>50%</th>\n",
       "      <td>6.118244e+06</td>\n",
       "      <td>NaN</td>\n",
       "      <td>NaN</td>\n",
       "      <td>NaN</td>\n",
       "    </tr>\n",
       "    <tr>\n",
       "      <th>75%</th>\n",
       "      <td>8.035212e+06</td>\n",
       "      <td>NaN</td>\n",
       "      <td>NaN</td>\n",
       "      <td>NaN</td>\n",
       "    </tr>\n",
       "    <tr>\n",
       "      <th>max</th>\n",
       "      <td>1.034016e+07</td>\n",
       "      <td>NaN</td>\n",
       "      <td>NaN</td>\n",
       "      <td>NaN</td>\n",
       "    </tr>\n",
       "  </tbody>\n",
       "</table>\n",
       "</div>"
      ],
      "text/plain": [
       "          listing_id        date available    price\n",
       "count   1.393570e+06     1393570   1393570   934542\n",
       "unique           NaN         365         2      669\n",
       "top              NaN  2016-01-04         t  $150.00\n",
       "freq             NaN        3818    934542    36646\n",
       "mean    5.550111e+06         NaN       NaN      NaN\n",
       "std     2.962274e+06         NaN       NaN      NaN\n",
       "min     3.335000e+03         NaN       NaN      NaN\n",
       "25%     3.258213e+06         NaN       NaN      NaN\n",
       "50%     6.118244e+06         NaN       NaN      NaN\n",
       "75%     8.035212e+06         NaN       NaN      NaN\n",
       "max     1.034016e+07         NaN       NaN      NaN"
      ]
     },
     "execution_count": 8,
     "metadata": {},
     "output_type": "execute_result"
    }
   ],
   "source": [
    "df_calendar.describe(include='all')"
   ]
  },
  {
   "cell_type": "code",
   "execution_count": 9,
   "id": "95f01f85",
   "metadata": {},
   "outputs": [
    {
     "data": {
      "text/plain": [
       "listing_id     int64\n",
       "date          object\n",
       "available     object\n",
       "price         object\n",
       "dtype: object"
      ]
     },
     "execution_count": 9,
     "metadata": {},
     "output_type": "execute_result"
    }
   ],
   "source": [
    "df_calendar.dtypes"
   ]
  },
  {
   "cell_type": "markdown",
   "id": "62b5c3b9",
   "metadata": {},
   "source": [
    "*Findings*\n",
    "- The Calendar DF doesn't require a lot of data preparation. \n",
    "- The date is still in object and we should transform it to date, the only  missing values are in the price column whenever the column \"available\" is f, which could indicate that in that date the apartment was not available."
   ]
  },
  {
   "cell_type": "markdown",
   "id": "f736180e",
   "metadata": {},
   "source": [
    "## df_listings - Data understanding"
   ]
  },
  {
   "cell_type": "code",
   "execution_count": 10,
   "id": "91b21e6c",
   "metadata": {},
   "outputs": [
    {
     "data": {
      "text/html": [
       "<div>\n",
       "<style scoped>\n",
       "    .dataframe tbody tr th:only-of-type {\n",
       "        vertical-align: middle;\n",
       "    }\n",
       "\n",
       "    .dataframe tbody tr th {\n",
       "        vertical-align: top;\n",
       "    }\n",
       "\n",
       "    .dataframe thead th {\n",
       "        text-align: right;\n",
       "    }\n",
       "</style>\n",
       "<table border=\"1\" class=\"dataframe\">\n",
       "  <thead>\n",
       "    <tr style=\"text-align: right;\">\n",
       "      <th></th>\n",
       "      <th>id</th>\n",
       "      <th>listing_url</th>\n",
       "      <th>scrape_id</th>\n",
       "      <th>last_scraped</th>\n",
       "      <th>name</th>\n",
       "      <th>summary</th>\n",
       "      <th>space</th>\n",
       "      <th>description</th>\n",
       "      <th>experiences_offered</th>\n",
       "      <th>neighborhood_overview</th>\n",
       "      <th>...</th>\n",
       "      <th>review_scores_value</th>\n",
       "      <th>requires_license</th>\n",
       "      <th>license</th>\n",
       "      <th>jurisdiction_names</th>\n",
       "      <th>instant_bookable</th>\n",
       "      <th>cancellation_policy</th>\n",
       "      <th>require_guest_profile_picture</th>\n",
       "      <th>require_guest_phone_verification</th>\n",
       "      <th>calculated_host_listings_count</th>\n",
       "      <th>reviews_per_month</th>\n",
       "    </tr>\n",
       "  </thead>\n",
       "  <tbody>\n",
       "    <tr>\n",
       "      <th>0</th>\n",
       "      <td>241032</td>\n",
       "      <td>https://www.airbnb.com/rooms/241032</td>\n",
       "      <td>20160104002432</td>\n",
       "      <td>2016-01-04</td>\n",
       "      <td>Stylish Queen Anne Apartment</td>\n",
       "      <td>NaN</td>\n",
       "      <td>Make your self at home in this charming one-be...</td>\n",
       "      <td>Make your self at home in this charming one-be...</td>\n",
       "      <td>none</td>\n",
       "      <td>NaN</td>\n",
       "      <td>...</td>\n",
       "      <td>10.0</td>\n",
       "      <td>f</td>\n",
       "      <td>NaN</td>\n",
       "      <td>WASHINGTON</td>\n",
       "      <td>f</td>\n",
       "      <td>moderate</td>\n",
       "      <td>f</td>\n",
       "      <td>f</td>\n",
       "      <td>2</td>\n",
       "      <td>4.07</td>\n",
       "    </tr>\n",
       "    <tr>\n",
       "      <th>1</th>\n",
       "      <td>953595</td>\n",
       "      <td>https://www.airbnb.com/rooms/953595</td>\n",
       "      <td>20160104002432</td>\n",
       "      <td>2016-01-04</td>\n",
       "      <td>Bright &amp; Airy Queen Anne Apartment</td>\n",
       "      <td>Chemically sensitive? We've removed the irrita...</td>\n",
       "      <td>Beautiful, hypoallergenic apartment in an extr...</td>\n",
       "      <td>Chemically sensitive? We've removed the irrita...</td>\n",
       "      <td>none</td>\n",
       "      <td>Queen Anne is a wonderful, truly functional vi...</td>\n",
       "      <td>...</td>\n",
       "      <td>10.0</td>\n",
       "      <td>f</td>\n",
       "      <td>NaN</td>\n",
       "      <td>WASHINGTON</td>\n",
       "      <td>f</td>\n",
       "      <td>strict</td>\n",
       "      <td>t</td>\n",
       "      <td>t</td>\n",
       "      <td>6</td>\n",
       "      <td>1.48</td>\n",
       "    </tr>\n",
       "    <tr>\n",
       "      <th>2</th>\n",
       "      <td>3308979</td>\n",
       "      <td>https://www.airbnb.com/rooms/3308979</td>\n",
       "      <td>20160104002432</td>\n",
       "      <td>2016-01-04</td>\n",
       "      <td>New Modern House-Amazing water view</td>\n",
       "      <td>New modern house built in 2013.  Spectacular s...</td>\n",
       "      <td>Our house is modern, light and fresh with a wa...</td>\n",
       "      <td>New modern house built in 2013.  Spectacular s...</td>\n",
       "      <td>none</td>\n",
       "      <td>Upper Queen Anne is a charming neighborhood fu...</td>\n",
       "      <td>...</td>\n",
       "      <td>10.0</td>\n",
       "      <td>f</td>\n",
       "      <td>NaN</td>\n",
       "      <td>WASHINGTON</td>\n",
       "      <td>f</td>\n",
       "      <td>strict</td>\n",
       "      <td>f</td>\n",
       "      <td>f</td>\n",
       "      <td>2</td>\n",
       "      <td>1.15</td>\n",
       "    </tr>\n",
       "    <tr>\n",
       "      <th>3</th>\n",
       "      <td>7421966</td>\n",
       "      <td>https://www.airbnb.com/rooms/7421966</td>\n",
       "      <td>20160104002432</td>\n",
       "      <td>2016-01-04</td>\n",
       "      <td>Queen Anne Chateau</td>\n",
       "      <td>A charming apartment that sits atop Queen Anne...</td>\n",
       "      <td>NaN</td>\n",
       "      <td>A charming apartment that sits atop Queen Anne...</td>\n",
       "      <td>none</td>\n",
       "      <td>NaN</td>\n",
       "      <td>...</td>\n",
       "      <td>NaN</td>\n",
       "      <td>f</td>\n",
       "      <td>NaN</td>\n",
       "      <td>WASHINGTON</td>\n",
       "      <td>f</td>\n",
       "      <td>flexible</td>\n",
       "      <td>f</td>\n",
       "      <td>f</td>\n",
       "      <td>1</td>\n",
       "      <td>NaN</td>\n",
       "    </tr>\n",
       "    <tr>\n",
       "      <th>4</th>\n",
       "      <td>278830</td>\n",
       "      <td>https://www.airbnb.com/rooms/278830</td>\n",
       "      <td>20160104002432</td>\n",
       "      <td>2016-01-04</td>\n",
       "      <td>Charming craftsman 3 bdm house</td>\n",
       "      <td>Cozy family craftman house in beautiful neighb...</td>\n",
       "      <td>Cozy family craftman house in beautiful neighb...</td>\n",
       "      <td>Cozy family craftman house in beautiful neighb...</td>\n",
       "      <td>none</td>\n",
       "      <td>We are in the beautiful neighborhood of Queen ...</td>\n",
       "      <td>...</td>\n",
       "      <td>9.0</td>\n",
       "      <td>f</td>\n",
       "      <td>NaN</td>\n",
       "      <td>WASHINGTON</td>\n",
       "      <td>f</td>\n",
       "      <td>strict</td>\n",
       "      <td>f</td>\n",
       "      <td>f</td>\n",
       "      <td>1</td>\n",
       "      <td>0.89</td>\n",
       "    </tr>\n",
       "    <tr>\n",
       "      <th>...</th>\n",
       "      <td>...</td>\n",
       "      <td>...</td>\n",
       "      <td>...</td>\n",
       "      <td>...</td>\n",
       "      <td>...</td>\n",
       "      <td>...</td>\n",
       "      <td>...</td>\n",
       "      <td>...</td>\n",
       "      <td>...</td>\n",
       "      <td>...</td>\n",
       "      <td>...</td>\n",
       "      <td>...</td>\n",
       "      <td>...</td>\n",
       "      <td>...</td>\n",
       "      <td>...</td>\n",
       "      <td>...</td>\n",
       "      <td>...</td>\n",
       "      <td>...</td>\n",
       "      <td>...</td>\n",
       "      <td>...</td>\n",
       "      <td>...</td>\n",
       "    </tr>\n",
       "    <tr>\n",
       "      <th>3813</th>\n",
       "      <td>8101950</td>\n",
       "      <td>https://www.airbnb.com/rooms/8101950</td>\n",
       "      <td>20160104002432</td>\n",
       "      <td>2016-01-04</td>\n",
       "      <td>3BR Mountain View House in Seattle</td>\n",
       "      <td>Our 3BR/2BA house boasts incredible views of t...</td>\n",
       "      <td>Our 3BR/2BA house bright, stylish, and wheelch...</td>\n",
       "      <td>Our 3BR/2BA house boasts incredible views of t...</td>\n",
       "      <td>none</td>\n",
       "      <td>We're located near lots of family fun. Woodlan...</td>\n",
       "      <td>...</td>\n",
       "      <td>8.0</td>\n",
       "      <td>f</td>\n",
       "      <td>NaN</td>\n",
       "      <td>WASHINGTON</td>\n",
       "      <td>f</td>\n",
       "      <td>strict</td>\n",
       "      <td>f</td>\n",
       "      <td>f</td>\n",
       "      <td>8</td>\n",
       "      <td>0.30</td>\n",
       "    </tr>\n",
       "    <tr>\n",
       "      <th>3814</th>\n",
       "      <td>8902327</td>\n",
       "      <td>https://www.airbnb.com/rooms/8902327</td>\n",
       "      <td>20160104002432</td>\n",
       "      <td>2016-01-04</td>\n",
       "      <td>Portage Bay View!-One Bedroom Apt</td>\n",
       "      <td>800 square foot 1 bedroom basement apartment w...</td>\n",
       "      <td>This space has a great view of Portage Bay wit...</td>\n",
       "      <td>800 square foot 1 bedroom basement apartment w...</td>\n",
       "      <td>none</td>\n",
       "      <td>The neighborhood is a quiet oasis that is clos...</td>\n",
       "      <td>...</td>\n",
       "      <td>10.0</td>\n",
       "      <td>f</td>\n",
       "      <td>NaN</td>\n",
       "      <td>WASHINGTON</td>\n",
       "      <td>f</td>\n",
       "      <td>moderate</td>\n",
       "      <td>f</td>\n",
       "      <td>f</td>\n",
       "      <td>1</td>\n",
       "      <td>2.00</td>\n",
       "    </tr>\n",
       "    <tr>\n",
       "      <th>3815</th>\n",
       "      <td>10267360</td>\n",
       "      <td>https://www.airbnb.com/rooms/10267360</td>\n",
       "      <td>20160104002432</td>\n",
       "      <td>2016-01-04</td>\n",
       "      <td>Private apartment view of Lake WA</td>\n",
       "      <td>Very comfortable lower unit. Quiet, charming m...</td>\n",
       "      <td>NaN</td>\n",
       "      <td>Very comfortable lower unit. Quiet, charming m...</td>\n",
       "      <td>none</td>\n",
       "      <td>NaN</td>\n",
       "      <td>...</td>\n",
       "      <td>NaN</td>\n",
       "      <td>f</td>\n",
       "      <td>NaN</td>\n",
       "      <td>WASHINGTON</td>\n",
       "      <td>f</td>\n",
       "      <td>moderate</td>\n",
       "      <td>f</td>\n",
       "      <td>f</td>\n",
       "      <td>1</td>\n",
       "      <td>NaN</td>\n",
       "    </tr>\n",
       "    <tr>\n",
       "      <th>3816</th>\n",
       "      <td>9604740</td>\n",
       "      <td>https://www.airbnb.com/rooms/9604740</td>\n",
       "      <td>20160104002432</td>\n",
       "      <td>2016-01-04</td>\n",
       "      <td>Amazing View with Modern Comfort!</td>\n",
       "      <td>Cozy studio condo in the heart on Madison Park...</td>\n",
       "      <td>Fully furnished unit to accommodate most needs...</td>\n",
       "      <td>Cozy studio condo in the heart on Madison Park...</td>\n",
       "      <td>none</td>\n",
       "      <td>Madison Park offers a peaceful slow pace upsca...</td>\n",
       "      <td>...</td>\n",
       "      <td>NaN</td>\n",
       "      <td>f</td>\n",
       "      <td>NaN</td>\n",
       "      <td>WASHINGTON</td>\n",
       "      <td>f</td>\n",
       "      <td>moderate</td>\n",
       "      <td>f</td>\n",
       "      <td>f</td>\n",
       "      <td>1</td>\n",
       "      <td>NaN</td>\n",
       "    </tr>\n",
       "    <tr>\n",
       "      <th>3817</th>\n",
       "      <td>10208623</td>\n",
       "      <td>https://www.airbnb.com/rooms/10208623</td>\n",
       "      <td>20160104002432</td>\n",
       "      <td>2016-01-04</td>\n",
       "      <td>Large Lakefront Apartment</td>\n",
       "      <td>All hardwood floors, fireplace, 65\" TV with Xb...</td>\n",
       "      <td>NaN</td>\n",
       "      <td>All hardwood floors, fireplace, 65\" TV with Xb...</td>\n",
       "      <td>none</td>\n",
       "      <td>NaN</td>\n",
       "      <td>...</td>\n",
       "      <td>NaN</td>\n",
       "      <td>f</td>\n",
       "      <td>NaN</td>\n",
       "      <td>WASHINGTON</td>\n",
       "      <td>f</td>\n",
       "      <td>flexible</td>\n",
       "      <td>f</td>\n",
       "      <td>f</td>\n",
       "      <td>1</td>\n",
       "      <td>NaN</td>\n",
       "    </tr>\n",
       "  </tbody>\n",
       "</table>\n",
       "<p>3818 rows × 92 columns</p>\n",
       "</div>"
      ],
      "text/plain": [
       "            id                            listing_url       scrape_id  \\\n",
       "0       241032    https://www.airbnb.com/rooms/241032  20160104002432   \n",
       "1       953595    https://www.airbnb.com/rooms/953595  20160104002432   \n",
       "2      3308979   https://www.airbnb.com/rooms/3308979  20160104002432   \n",
       "3      7421966   https://www.airbnb.com/rooms/7421966  20160104002432   \n",
       "4       278830    https://www.airbnb.com/rooms/278830  20160104002432   \n",
       "...        ...                                    ...             ...   \n",
       "3813   8101950   https://www.airbnb.com/rooms/8101950  20160104002432   \n",
       "3814   8902327   https://www.airbnb.com/rooms/8902327  20160104002432   \n",
       "3815  10267360  https://www.airbnb.com/rooms/10267360  20160104002432   \n",
       "3816   9604740   https://www.airbnb.com/rooms/9604740  20160104002432   \n",
       "3817  10208623  https://www.airbnb.com/rooms/10208623  20160104002432   \n",
       "\n",
       "     last_scraped                                 name  \\\n",
       "0      2016-01-04         Stylish Queen Anne Apartment   \n",
       "1      2016-01-04   Bright & Airy Queen Anne Apartment   \n",
       "2      2016-01-04  New Modern House-Amazing water view   \n",
       "3      2016-01-04                   Queen Anne Chateau   \n",
       "4      2016-01-04       Charming craftsman 3 bdm house   \n",
       "...           ...                                  ...   \n",
       "3813   2016-01-04   3BR Mountain View House in Seattle   \n",
       "3814   2016-01-04    Portage Bay View!-One Bedroom Apt   \n",
       "3815   2016-01-04    Private apartment view of Lake WA   \n",
       "3816   2016-01-04    Amazing View with Modern Comfort!   \n",
       "3817   2016-01-04            Large Lakefront Apartment   \n",
       "\n",
       "                                                summary  \\\n",
       "0                                                   NaN   \n",
       "1     Chemically sensitive? We've removed the irrita...   \n",
       "2     New modern house built in 2013.  Spectacular s...   \n",
       "3     A charming apartment that sits atop Queen Anne...   \n",
       "4     Cozy family craftman house in beautiful neighb...   \n",
       "...                                                 ...   \n",
       "3813  Our 3BR/2BA house boasts incredible views of t...   \n",
       "3814  800 square foot 1 bedroom basement apartment w...   \n",
       "3815  Very comfortable lower unit. Quiet, charming m...   \n",
       "3816  Cozy studio condo in the heart on Madison Park...   \n",
       "3817  All hardwood floors, fireplace, 65\" TV with Xb...   \n",
       "\n",
       "                                                  space  \\\n",
       "0     Make your self at home in this charming one-be...   \n",
       "1     Beautiful, hypoallergenic apartment in an extr...   \n",
       "2     Our house is modern, light and fresh with a wa...   \n",
       "3                                                   NaN   \n",
       "4     Cozy family craftman house in beautiful neighb...   \n",
       "...                                                 ...   \n",
       "3813  Our 3BR/2BA house bright, stylish, and wheelch...   \n",
       "3814  This space has a great view of Portage Bay wit...   \n",
       "3815                                                NaN   \n",
       "3816  Fully furnished unit to accommodate most needs...   \n",
       "3817                                                NaN   \n",
       "\n",
       "                                            description experiences_offered  \\\n",
       "0     Make your self at home in this charming one-be...                none   \n",
       "1     Chemically sensitive? We've removed the irrita...                none   \n",
       "2     New modern house built in 2013.  Spectacular s...                none   \n",
       "3     A charming apartment that sits atop Queen Anne...                none   \n",
       "4     Cozy family craftman house in beautiful neighb...                none   \n",
       "...                                                 ...                 ...   \n",
       "3813  Our 3BR/2BA house boasts incredible views of t...                none   \n",
       "3814  800 square foot 1 bedroom basement apartment w...                none   \n",
       "3815  Very comfortable lower unit. Quiet, charming m...                none   \n",
       "3816  Cozy studio condo in the heart on Madison Park...                none   \n",
       "3817  All hardwood floors, fireplace, 65\" TV with Xb...                none   \n",
       "\n",
       "                                  neighborhood_overview  ...  \\\n",
       "0                                                   NaN  ...   \n",
       "1     Queen Anne is a wonderful, truly functional vi...  ...   \n",
       "2     Upper Queen Anne is a charming neighborhood fu...  ...   \n",
       "3                                                   NaN  ...   \n",
       "4     We are in the beautiful neighborhood of Queen ...  ...   \n",
       "...                                                 ...  ...   \n",
       "3813  We're located near lots of family fun. Woodlan...  ...   \n",
       "3814  The neighborhood is a quiet oasis that is clos...  ...   \n",
       "3815                                                NaN  ...   \n",
       "3816  Madison Park offers a peaceful slow pace upsca...  ...   \n",
       "3817                                                NaN  ...   \n",
       "\n",
       "     review_scores_value requires_license license jurisdiction_names  \\\n",
       "0                   10.0                f     NaN         WASHINGTON   \n",
       "1                   10.0                f     NaN         WASHINGTON   \n",
       "2                   10.0                f     NaN         WASHINGTON   \n",
       "3                    NaN                f     NaN         WASHINGTON   \n",
       "4                    9.0                f     NaN         WASHINGTON   \n",
       "...                  ...              ...     ...                ...   \n",
       "3813                 8.0                f     NaN         WASHINGTON   \n",
       "3814                10.0                f     NaN         WASHINGTON   \n",
       "3815                 NaN                f     NaN         WASHINGTON   \n",
       "3816                 NaN                f     NaN         WASHINGTON   \n",
       "3817                 NaN                f     NaN         WASHINGTON   \n",
       "\n",
       "     instant_bookable cancellation_policy  require_guest_profile_picture  \\\n",
       "0                   f            moderate                              f   \n",
       "1                   f              strict                              t   \n",
       "2                   f              strict                              f   \n",
       "3                   f            flexible                              f   \n",
       "4                   f              strict                              f   \n",
       "...               ...                 ...                            ...   \n",
       "3813                f              strict                              f   \n",
       "3814                f            moderate                              f   \n",
       "3815                f            moderate                              f   \n",
       "3816                f            moderate                              f   \n",
       "3817                f            flexible                              f   \n",
       "\n",
       "     require_guest_phone_verification calculated_host_listings_count  \\\n",
       "0                                   f                              2   \n",
       "1                                   t                              6   \n",
       "2                                   f                              2   \n",
       "3                                   f                              1   \n",
       "4                                   f                              1   \n",
       "...                               ...                            ...   \n",
       "3813                                f                              8   \n",
       "3814                                f                              1   \n",
       "3815                                f                              1   \n",
       "3816                                f                              1   \n",
       "3817                                f                              1   \n",
       "\n",
       "     reviews_per_month  \n",
       "0                 4.07  \n",
       "1                 1.48  \n",
       "2                 1.15  \n",
       "3                  NaN  \n",
       "4                 0.89  \n",
       "...                ...  \n",
       "3813              0.30  \n",
       "3814              2.00  \n",
       "3815               NaN  \n",
       "3816               NaN  \n",
       "3817               NaN  \n",
       "\n",
       "[3818 rows x 92 columns]"
      ]
     },
     "execution_count": 10,
     "metadata": {},
     "output_type": "execute_result"
    }
   ],
   "source": [
    "df_listings"
   ]
  },
  {
   "cell_type": "code",
   "execution_count": 11,
   "id": "40ec0df5",
   "metadata": {},
   "outputs": [
    {
     "data": {
      "text/plain": [
       "Index(['id', 'listing_url', 'scrape_id', 'last_scraped', 'name', 'summary',\n",
       "       'space', 'description', 'experiences_offered', 'neighborhood_overview',\n",
       "       'notes', 'transit', 'thumbnail_url', 'medium_url', 'picture_url',\n",
       "       'xl_picture_url', 'host_id', 'host_url', 'host_name', 'host_since',\n",
       "       'host_location', 'host_about', 'host_response_time',\n",
       "       'host_response_rate', 'host_acceptance_rate', 'host_is_superhost',\n",
       "       'host_thumbnail_url', 'host_picture_url', 'host_neighbourhood',\n",
       "       'host_listings_count', 'host_total_listings_count',\n",
       "       'host_verifications', 'host_has_profile_pic', 'host_identity_verified',\n",
       "       'street', 'neighbourhood', 'neighbourhood_cleansed',\n",
       "       'neighbourhood_group_cleansed', 'city', 'state', 'zipcode', 'market',\n",
       "       'smart_location', 'country_code', 'country', 'latitude', 'longitude',\n",
       "       'is_location_exact', 'property_type', 'room_type', 'accommodates',\n",
       "       'bathrooms', 'bedrooms', 'beds', 'bed_type', 'amenities', 'square_feet',\n",
       "       'price', 'weekly_price', 'monthly_price', 'security_deposit',\n",
       "       'cleaning_fee', 'guests_included', 'extra_people', 'minimum_nights',\n",
       "       'maximum_nights', 'calendar_updated', 'has_availability',\n",
       "       'availability_30', 'availability_60', 'availability_90',\n",
       "       'availability_365', 'calendar_last_scraped', 'number_of_reviews',\n",
       "       'first_review', 'last_review', 'review_scores_rating',\n",
       "       'review_scores_accuracy', 'review_scores_cleanliness',\n",
       "       'review_scores_checkin', 'review_scores_communication',\n",
       "       'review_scores_location', 'review_scores_value', 'requires_license',\n",
       "       'license', 'jurisdiction_names', 'instant_bookable',\n",
       "       'cancellation_policy', 'require_guest_profile_picture',\n",
       "       'require_guest_phone_verification', 'calculated_host_listings_count',\n",
       "       'reviews_per_month'],\n",
       "      dtype='object')"
      ]
     },
     "execution_count": 11,
     "metadata": {},
     "output_type": "execute_result"
    }
   ],
   "source": [
    "df_listings.columns"
   ]
  },
  {
   "cell_type": "code",
   "execution_count": 12,
   "id": "dc678b58",
   "metadata": {},
   "outputs": [
    {
     "data": {
      "text/plain": [
       "(3818, 92)"
      ]
     },
     "execution_count": 12,
     "metadata": {},
     "output_type": "execute_result"
    }
   ],
   "source": [
    "df_listings.shape"
   ]
  },
  {
   "cell_type": "code",
   "execution_count": 13,
   "id": "4b8645ba",
   "metadata": {},
   "outputs": [
    {
     "data": {
      "text/plain": [
       "summary                         177\n",
       "space                           569\n",
       "neighborhood_overview          1032\n",
       "notes                          1606\n",
       "transit                         934\n",
       "thumbnail_url                   320\n",
       "medium_url                      320\n",
       "xl_picture_url                  320\n",
       "host_name                         2\n",
       "host_since                        2\n",
       "host_location                     8\n",
       "host_about                      859\n",
       "host_response_time              523\n",
       "host_response_rate              523\n",
       "host_acceptance_rate            773\n",
       "host_is_superhost                 2\n",
       "host_thumbnail_url                2\n",
       "host_picture_url                  2\n",
       "host_neighbourhood              300\n",
       "host_listings_count               2\n",
       "host_total_listings_count         2\n",
       "host_has_profile_pic              2\n",
       "host_identity_verified            2\n",
       "neighbourhood                   416\n",
       "zipcode                           7\n",
       "property_type                     1\n",
       "bathrooms                        16\n",
       "bedrooms                          6\n",
       "beds                              1\n",
       "square_feet                    3721\n",
       "weekly_price                   1809\n",
       "monthly_price                  2301\n",
       "security_deposit               1952\n",
       "cleaning_fee                   1030\n",
       "first_review                    627\n",
       "last_review                     627\n",
       "review_scores_rating            647\n",
       "review_scores_accuracy          658\n",
       "review_scores_cleanliness       653\n",
       "review_scores_checkin           658\n",
       "review_scores_communication     651\n",
       "review_scores_location          655\n",
       "review_scores_value             656\n",
       "license                        3818\n",
       "reviews_per_month               627\n",
       "dtype: int64"
      ]
     },
     "execution_count": 13,
     "metadata": {},
     "output_type": "execute_result"
    }
   ],
   "source": [
    "df_listings.isnull().sum()[df_listings.isnull().sum() > 0 ]"
   ]
  },
  {
   "cell_type": "code",
   "execution_count": 14,
   "id": "b107447f",
   "metadata": {},
   "outputs": [
    {
     "data": {
      "text/plain": [
       "45"
      ]
     },
     "execution_count": 14,
     "metadata": {},
     "output_type": "execute_result"
    }
   ],
   "source": [
    "len(df_listings.isnull().sum()[df_listings.isnull().sum() > 0 ])"
   ]
  },
  {
   "cell_type": "code",
   "execution_count": 15,
   "id": "12a82547",
   "metadata": {},
   "outputs": [
    {
     "data": {
      "text/plain": [
       "['Queen Anne',\n",
       " nan,\n",
       " 'Ballard',\n",
       " 'Belltown',\n",
       " 'Phinney Ridge',\n",
       " 'Alki',\n",
       " 'Fremont',\n",
       " 'Holly',\n",
       " 'Lower Queen Anne',\n",
       " 'Green Lake',\n",
       " 'Eastlake',\n",
       " 'Ravenna',\n",
       " 'Westlake',\n",
       " 'Columbia City',\n",
       " 'South Park',\n",
       " 'Kaanapali',\n",
       " 'Wallingford',\n",
       " 'Capitol Hill',\n",
       " 'Long Beach',\n",
       " 'Northwest District',\n",
       " 'Waianae Coast',\n",
       " 'Minor',\n",
       " 'Magnolia',\n",
       " 'Madrona',\n",
       " 'Harrison/Denny-Blaine',\n",
       " 'Leschi',\n",
       " 'University District',\n",
       " 'Roosevelt',\n",
       " 'Mission District',\n",
       " 'Madison Park',\n",
       " 'Stevens',\n",
       " 'Central San Pedro',\n",
       " 'Atlantic',\n",
       " 'North Beacon Hill',\n",
       " 'Central Business District',\n",
       " 'Pike Place Market',\n",
       " 'Portage Bay',\n",
       " 'South Lake Union',\n",
       " 'Fenway/Kenmore',\n",
       " 'East Village',\n",
       " 'Clairemont Mesa East',\n",
       " 'Forestland',\n",
       " 'Hollywood',\n",
       " 'Manhattan Beach',\n",
       " 'Downtown Toronto',\n",
       " 'International District',\n",
       " 'Yesler Terrace',\n",
       " 'First Hill',\n",
       " 'Anaheim',\n",
       " 'Maple Leaf',\n",
       " 'Seward Park',\n",
       " 'Pioneer Square',\n",
       " 'Gatewood',\n",
       " 'The Junction',\n",
       " 'North Admiral',\n",
       " 'Arbor Heights',\n",
       " 'North Hollywood',\n",
       " 'Kauaʻi',\n",
       " 'Genesee',\n",
       " 'Crown Hill',\n",
       " 'Interbay',\n",
       " 'Industrial District',\n",
       " 'Holly Park',\n",
       " 'Georgetown',\n",
       " 'South Beacon Hill',\n",
       " 'Greenwood',\n",
       " 'Bitter Lake',\n",
       " 'Beverly Hills',\n",
       " 'Fauntleroy',\n",
       " 'South Delridge',\n",
       " 'Mount Baker',\n",
       " 'Brighton',\n",
       " 'Highland Park',\n",
       " 'High Point',\n",
       " 'View Ridge',\n",
       " 'Windermere',\n",
       " 'Dunlap',\n",
       " 'Rainier Beach',\n",
       " 'Baldwin Hills',\n",
       " 'North Delridge',\n",
       " 'Bryant',\n",
       " 'Wedgewood',\n",
       " 'Riverview',\n",
       " 'Montlake',\n",
       " 'Broadway',\n",
       " \"Hell's Kitchen\",\n",
       " 'Jamaica Plain',\n",
       " 'Victory Heights',\n",
       " 'Mathews Beach',\n",
       " 'Meadowbrook',\n",
       " 'Olympic Hills',\n",
       " 'Huntington Beach',\n",
       " 'North Beach/Blue Ridge',\n",
       " 'Cedar Park',\n",
       " 'Haller Lake',\n",
       " 'Pinehurst',\n",
       " 'Licton Springs',\n",
       " 'North College Park',\n",
       " 'Santa Monica',\n",
       " 'Laurelhurst',\n",
       " 'Seaview',\n",
       " 'Roxhill',\n",
       " 'Broadview']"
      ]
     },
     "execution_count": 15,
     "metadata": {},
     "output_type": "execute_result"
    }
   ],
   "source": [
    "#since we want to answer how differ prices by neighborhood, lets take a closer look into the \"host_neighbourhood\" feature\n",
    "list(df_listings['host_neighbourhood'].drop_duplicates())"
   ]
  },
  {
   "cell_type": "code",
   "execution_count": 16,
   "id": "83aab69d",
   "metadata": {},
   "outputs": [
    {
     "data": {
      "text/plain": [
       "Other neighborhoods    794\n",
       "Capitol Hill           567\n",
       "Downtown               530\n",
       "Central Area           369\n",
       "Queen Anne             295\n",
       "Ballard                230\n",
       "West Seattle           203\n",
       "Rainier Valley         159\n",
       "University District    122\n",
       "Beacon Hill            118\n",
       "Cascade                 89\n",
       "Northgate               80\n",
       "Delridge                79\n",
       "Lake City               67\n",
       "Magnolia                61\n",
       "Seward Park             44\n",
       "Interbay                11\n",
       "Name: neighbourhood_group_cleansed, dtype: int64"
      ]
     },
     "execution_count": 16,
     "metadata": {},
     "output_type": "execute_result"
    }
   ],
   "source": [
    "df_listings['neighbourhood_group_cleansed'].value_counts()"
   ]
  },
  {
   "cell_type": "code",
   "execution_count": 17,
   "id": "87ec63ce",
   "metadata": {},
   "outputs": [
    {
     "data": {
      "text/plain": [
       "House              1733\n",
       "Apartment          1708\n",
       "Townhouse           118\n",
       "Condominium          91\n",
       "Loft                 40\n",
       "Bed & Breakfast      37\n",
       "Other                22\n",
       "Cabin                21\n",
       "Camper/RV            13\n",
       "Bungalow             13\n",
       "Boat                  8\n",
       "Tent                  5\n",
       "Treehouse             3\n",
       "Dorm                  2\n",
       "Chalet                2\n",
       "Yurt                  1\n",
       "Name: property_type, dtype: int64"
      ]
     },
     "execution_count": 17,
     "metadata": {},
     "output_type": "execute_result"
    }
   ],
   "source": [
    "df_listings['property_type'].value_counts()"
   ]
  },
  {
   "cell_type": "code",
   "execution_count": 18,
   "id": "c4598c18",
   "metadata": {},
   "outputs": [
    {
     "data": {
      "image/png": "[encoded data removed]",
      "text/plain": [
       "<Figure size 1440x576 with 1 Axes>"
      ]
     },
     "metadata": {
      "needs_background": "light"
     },
     "output_type": "display_data"
    }
   ],
   "source": [
    "\n",
    "\n",
    "\n",
    "property_counts = df_listings['property_type'].value_counts().reset_index()\n",
    "property_counts.columns = ['property_type', 'count']\n",
    "\n",
    "plt.figure(figsize=(20, 8))\n",
    "sns.barplot(data=property_counts, x='property_type', y='count', palette='colorblind', label=True)\n",
    "\n",
    "plt.title('Property Type Distribution')\n",
    "plt.xlabel('Property Type')\n",
    "plt.ylabel('Count')\n",
    "\n",
    "plt.show()\n"
   ]
  },
  {
   "cell_type": "markdown",
   "id": "4a30aeaf",
   "metadata": {},
   "source": [
    "*Findings*\n",
    "- The host_neighbourhoodcolumn seems to be standardized already to use it in analysis and it has 300 null values out of the 3818 rows. \n",
    "- The neighbourhood_group_cleansed column seems to be a column that someone has already done some data preparation around it and has no NaN values and only the main neighbourhoods, which could be useful for our analysis to simplify it.\n",
    "- The property_type column has only one null value\n",
    "- The dataframe has 45 columns which contains at least one null value and we have to take these columns into consideration depending on how our analysis develop below\n",
    "- House and Apartment property types are the majority of the listing in the city"
   ]
  },
  {
   "cell_type": "markdown",
   "id": "95424051",
   "metadata": {},
   "source": [
    "## df_reviews - Data understanding"
   ]
  },
  {
   "cell_type": "code",
   "execution_count": 19,
   "id": "279270bc",
   "metadata": {},
   "outputs": [
    {
     "data": {
      "text/html": [
       "<div>\n",
       "<style scoped>\n",
       "    .dataframe tbody tr th:only-of-type {\n",
       "        vertical-align: middle;\n",
       "    }\n",
       "\n",
       "    .dataframe tbody tr th {\n",
       "        vertical-align: top;\n",
       "    }\n",
       "\n",
       "    .dataframe thead th {\n",
       "        text-align: right;\n",
       "    }\n",
       "</style>\n",
       "<table border=\"1\" class=\"dataframe\">\n",
       "  <thead>\n",
       "    <tr style=\"text-align: right;\">\n",
       "      <th></th>\n",
       "      <th>listing_id</th>\n",
       "      <th>id</th>\n",
       "      <th>date</th>\n",
       "      <th>reviewer_id</th>\n",
       "      <th>reviewer_name</th>\n",
       "      <th>comments</th>\n",
       "    </tr>\n",
       "  </thead>\n",
       "  <tbody>\n",
       "    <tr>\n",
       "      <th>0</th>\n",
       "      <td>7202016</td>\n",
       "      <td>38917982</td>\n",
       "      <td>2015-07-19</td>\n",
       "      <td>28943674</td>\n",
       "      <td>Bianca</td>\n",
       "      <td>Cute and cozy place. Perfect location to every...</td>\n",
       "    </tr>\n",
       "    <tr>\n",
       "      <th>1</th>\n",
       "      <td>7202016</td>\n",
       "      <td>39087409</td>\n",
       "      <td>2015-07-20</td>\n",
       "      <td>32440555</td>\n",
       "      <td>Frank</td>\n",
       "      <td>Kelly has a great room in a very central locat...</td>\n",
       "    </tr>\n",
       "    <tr>\n",
       "      <th>2</th>\n",
       "      <td>7202016</td>\n",
       "      <td>39820030</td>\n",
       "      <td>2015-07-26</td>\n",
       "      <td>37722850</td>\n",
       "      <td>Ian</td>\n",
       "      <td>Very spacious apartment, and in a great neighb...</td>\n",
       "    </tr>\n",
       "    <tr>\n",
       "      <th>3</th>\n",
       "      <td>7202016</td>\n",
       "      <td>40813543</td>\n",
       "      <td>2015-08-02</td>\n",
       "      <td>33671805</td>\n",
       "      <td>George</td>\n",
       "      <td>Close to Seattle Center and all it has to offe...</td>\n",
       "    </tr>\n",
       "    <tr>\n",
       "      <th>4</th>\n",
       "      <td>7202016</td>\n",
       "      <td>41986501</td>\n",
       "      <td>2015-08-10</td>\n",
       "      <td>34959538</td>\n",
       "      <td>Ming</td>\n",
       "      <td>Kelly was a great host and very accommodating ...</td>\n",
       "    </tr>\n",
       "    <tr>\n",
       "      <th>...</th>\n",
       "      <td>...</td>\n",
       "      <td>...</td>\n",
       "      <td>...</td>\n",
       "      <td>...</td>\n",
       "      <td>...</td>\n",
       "      <td>...</td>\n",
       "    </tr>\n",
       "    <tr>\n",
       "      <th>84844</th>\n",
       "      <td>3624990</td>\n",
       "      <td>50436321</td>\n",
       "      <td>2015-10-12</td>\n",
       "      <td>37419458</td>\n",
       "      <td>Ryan</td>\n",
       "      <td>The description and pictures of the apartment ...</td>\n",
       "    </tr>\n",
       "    <tr>\n",
       "      <th>84845</th>\n",
       "      <td>3624990</td>\n",
       "      <td>51024875</td>\n",
       "      <td>2015-10-17</td>\n",
       "      <td>6933252</td>\n",
       "      <td>Linda</td>\n",
       "      <td>We had an excellent stay. It was clean and com...</td>\n",
       "    </tr>\n",
       "    <tr>\n",
       "      <th>84846</th>\n",
       "      <td>3624990</td>\n",
       "      <td>51511988</td>\n",
       "      <td>2015-10-20</td>\n",
       "      <td>19543701</td>\n",
       "      <td>Jaime</td>\n",
       "      <td>Gran ubicación, cerca de todo lo atractivo del...</td>\n",
       "    </tr>\n",
       "    <tr>\n",
       "      <th>84847</th>\n",
       "      <td>3624990</td>\n",
       "      <td>52814482</td>\n",
       "      <td>2015-11-02</td>\n",
       "      <td>24445024</td>\n",
       "      <td>Jørgen</td>\n",
       "      <td>Very good apartement, clean and well sized. Si...</td>\n",
       "    </tr>\n",
       "    <tr>\n",
       "      <th>84848</th>\n",
       "      <td>9727246</td>\n",
       "      <td>56429621</td>\n",
       "      <td>2015-12-13</td>\n",
       "      <td>30860360</td>\n",
       "      <td>Stephanie</td>\n",
       "      <td>Breanne was a great host. Check in was easy, s...</td>\n",
       "    </tr>\n",
       "  </tbody>\n",
       "</table>\n",
       "<p>84849 rows × 6 columns</p>\n",
       "</div>"
      ],
      "text/plain": [
       "       listing_id        id        date  reviewer_id reviewer_name  \\\n",
       "0         7202016  38917982  2015-07-19     28943674        Bianca   \n",
       "1         7202016  39087409  2015-07-20     32440555         Frank   \n",
       "2         7202016  39820030  2015-07-26     37722850           Ian   \n",
       "3         7202016  40813543  2015-08-02     33671805        George   \n",
       "4         7202016  41986501  2015-08-10     34959538          Ming   \n",
       "...           ...       ...         ...          ...           ...   \n",
       "84844     3624990  50436321  2015-10-12     37419458          Ryan   \n",
       "84845     3624990  51024875  2015-10-17      6933252         Linda   \n",
       "84846     3624990  51511988  2015-10-20     19543701         Jaime   \n",
       "84847     3624990  52814482  2015-11-02     24445024        Jørgen   \n",
       "84848     9727246  56429621  2015-12-13     30860360     Stephanie   \n",
       "\n",
       "                                                comments  \n",
       "0      Cute and cozy place. Perfect location to every...  \n",
       "1      Kelly has a great room in a very central locat...  \n",
       "2      Very spacious apartment, and in a great neighb...  \n",
       "3      Close to Seattle Center and all it has to offe...  \n",
       "4      Kelly was a great host and very accommodating ...  \n",
       "...                                                  ...  \n",
       "84844  The description and pictures of the apartment ...  \n",
       "84845  We had an excellent stay. It was clean and com...  \n",
       "84846  Gran ubicación, cerca de todo lo atractivo del...  \n",
       "84847  Very good apartement, clean and well sized. Si...  \n",
       "84848  Breanne was a great host. Check in was easy, s...  \n",
       "\n",
       "[84849 rows x 6 columns]"
      ]
     },
     "execution_count": 19,
     "metadata": {},
     "output_type": "execute_result"
    }
   ],
   "source": [
    "df_reviews"
   ]
  },
  {
   "cell_type": "code",
   "execution_count": 20,
   "id": "2c0f30dd",
   "metadata": {},
   "outputs": [
    {
     "data": {
      "text/plain": [
       "(84849, 6)"
      ]
     },
     "execution_count": 20,
     "metadata": {},
     "output_type": "execute_result"
    }
   ],
   "source": [
    "df_reviews.shape"
   ]
  },
  {
   "cell_type": "code",
   "execution_count": 21,
   "id": "9e1033fa",
   "metadata": {},
   "outputs": [
    {
     "data": {
      "text/plain": [
       "listing_id        0\n",
       "id                0\n",
       "date              0\n",
       "reviewer_id       0\n",
       "reviewer_name     0\n",
       "comments         18\n",
       "dtype: int64"
      ]
     },
     "execution_count": 21,
     "metadata": {},
     "output_type": "execute_result"
    }
   ],
   "source": [
    "df_reviews.isnull().sum()"
   ]
  },
  {
   "cell_type": "code",
   "execution_count": 22,
   "id": "7ae22f40",
   "metadata": {},
   "outputs": [
    {
     "data": {
      "text/html": [
       "<div>\n",
       "<style scoped>\n",
       "    .dataframe tbody tr th:only-of-type {\n",
       "        vertical-align: middle;\n",
       "    }\n",
       "\n",
       "    .dataframe tbody tr th {\n",
       "        vertical-align: top;\n",
       "    }\n",
       "\n",
       "    .dataframe thead th {\n",
       "        text-align: right;\n",
       "    }\n",
       "</style>\n",
       "<table border=\"1\" class=\"dataframe\">\n",
       "  <thead>\n",
       "    <tr style=\"text-align: right;\">\n",
       "      <th></th>\n",
       "      <th>listing_id</th>\n",
       "      <th>id</th>\n",
       "      <th>reviewer_id</th>\n",
       "    </tr>\n",
       "  </thead>\n",
       "  <tbody>\n",
       "    <tr>\n",
       "      <th>count</th>\n",
       "      <td>8.484900e+04</td>\n",
       "      <td>8.484900e+04</td>\n",
       "      <td>8.484900e+04</td>\n",
       "    </tr>\n",
       "    <tr>\n",
       "      <th>mean</th>\n",
       "      <td>3.005067e+06</td>\n",
       "      <td>3.058765e+07</td>\n",
       "      <td>1.701301e+07</td>\n",
       "    </tr>\n",
       "    <tr>\n",
       "      <th>std</th>\n",
       "      <td>2.472877e+06</td>\n",
       "      <td>1.636613e+07</td>\n",
       "      <td>1.353704e+07</td>\n",
       "    </tr>\n",
       "    <tr>\n",
       "      <th>min</th>\n",
       "      <td>4.291000e+03</td>\n",
       "      <td>3.721000e+03</td>\n",
       "      <td>1.500000e+01</td>\n",
       "    </tr>\n",
       "    <tr>\n",
       "      <th>25%</th>\n",
       "      <td>7.946330e+05</td>\n",
       "      <td>1.725127e+07</td>\n",
       "      <td>5.053141e+06</td>\n",
       "    </tr>\n",
       "    <tr>\n",
       "      <th>50%</th>\n",
       "      <td>2.488228e+06</td>\n",
       "      <td>3.228809e+07</td>\n",
       "      <td>1.413476e+07</td>\n",
       "    </tr>\n",
       "    <tr>\n",
       "      <th>75%</th>\n",
       "      <td>4.694479e+06</td>\n",
       "      <td>4.457648e+07</td>\n",
       "      <td>2.762402e+07</td>\n",
       "    </tr>\n",
       "    <tr>\n",
       "      <th>max</th>\n",
       "      <td>1.024814e+07</td>\n",
       "      <td>5.873651e+07</td>\n",
       "      <td>5.281274e+07</td>\n",
       "    </tr>\n",
       "  </tbody>\n",
       "</table>\n",
       "</div>"
      ],
      "text/plain": [
       "         listing_id            id   reviewer_id\n",
       "count  8.484900e+04  8.484900e+04  8.484900e+04\n",
       "mean   3.005067e+06  3.058765e+07  1.701301e+07\n",
       "std    2.472877e+06  1.636613e+07  1.353704e+07\n",
       "min    4.291000e+03  3.721000e+03  1.500000e+01\n",
       "25%    7.946330e+05  1.725127e+07  5.053141e+06\n",
       "50%    2.488228e+06  3.228809e+07  1.413476e+07\n",
       "75%    4.694479e+06  4.457648e+07  2.762402e+07\n",
       "max    1.024814e+07  5.873651e+07  5.281274e+07"
      ]
     },
     "execution_count": 22,
     "metadata": {},
     "output_type": "execute_result"
    }
   ],
   "source": [
    "df_reviews.describe()"
   ]
  },
  {
   "cell_type": "code",
   "execution_count": 23,
   "id": "caf49af5",
   "metadata": {},
   "outputs": [
    {
     "data": {
      "text/plain": [
       "listing_id        int64\n",
       "id                int64\n",
       "date             object\n",
       "reviewer_id       int64\n",
       "reviewer_name    object\n",
       "comments         object\n",
       "dtype: object"
      ]
     },
     "execution_count": 23,
     "metadata": {},
     "output_type": "execute_result"
    }
   ],
   "source": [
    "df_reviews.dtypes"
   ]
  },
  {
   "cell_type": "markdown",
   "id": "2d811c16",
   "metadata": {},
   "source": [
    "*Findings*\n",
    "- the dataframa doesnt have null values apparently and wont need much data preparation\n",
    "- the date column is in object and we should cast it to date to work with it properly"
   ]
  },
  {
   "cell_type": "markdown",
   "id": "64829faa",
   "metadata": {},
   "source": [
    "# 3. Data Preparation"
   ]
  },
  {
   "cell_type": "markdown",
   "id": "86cbcb25",
   "metadata": {},
   "source": [
    "1. How do prices vary by season, and when is the peak season in Seattle?\n",
    "2. How do prices differ by neighborhood, and which neighborhoods in Seattle are the most expensive?\n",
    "3. How do different property types within neighborhoods affect prices, particularly in the priciest neighborhoods and for the most common property types?\n"
   ]
  },
  {
   "cell_type": "code",
   "execution_count": 24,
   "id": "ed7f0a0d",
   "metadata": {},
   "outputs": [],
   "source": [
    "df_calendar['date'] = pd.to_datetime(df_calendar['date'])\n",
    "\n",
    "df_calendar['price'] = df_calendar['price'].apply(lambda x: np.nan if pd.isna(x) or x == 'NaN' else float(str(x).replace('$', '').replace(',', '')))\n",
    "df_calendar['year'] = pd.DatetimeIndex(df_calendar['date']).year\n",
    "df_calendar['month'] = pd.DatetimeIndex(df_calendar['date']).month"
   ]
  },
  {
   "cell_type": "code",
   "execution_count": 25,
   "id": "9b6a8c1b",
   "metadata": {},
   "outputs": [
    {
     "data": {
      "image/png": "[encoded data removed]",
      "text/plain": [
       "<Figure size 864x432 with 1 Axes>"
      ]
     },
     "metadata": {
      "needs_background": "light"
     },
     "output_type": "display_data"
    }
   ],
   "source": [
    "#investigation for question one\n",
    "avg_price_per_month = df_calendar.groupby(['year', 'month'], as_index=False)['price'].mean()\n",
    "plt.figure(figsize=(12, 6))\n",
    "sns.barplot(x='month', y='price', hue='year', data=avg_price_per_month, palette='colorblind')\n",
    "\n",
    "plt.title('Average Price by Year and Month')\n",
    "plt.xlabel('Month')\n",
    "plt.ylabel('Average Price')\n",
    "plt.legend(title='Year')\n",
    "plt.show()"
   ]
  },
  {
   "cell_type": "code",
   "execution_count": 26,
   "id": "c97a22ec",
   "metadata": {},
   "outputs": [
    {
     "data": {
      "text/html": [
       "<div>\n",
       "<style scoped>\n",
       "    .dataframe tbody tr th:only-of-type {\n",
       "        vertical-align: middle;\n",
       "    }\n",
       "\n",
       "    .dataframe tbody tr th {\n",
       "        vertical-align: top;\n",
       "    }\n",
       "\n",
       "    .dataframe thead th {\n",
       "        text-align: right;\n",
       "    }\n",
       "</style>\n",
       "<table border=\"1\" class=\"dataframe\">\n",
       "  <thead>\n",
       "    <tr style=\"text-align: right;\">\n",
       "      <th></th>\n",
       "      <th>neighbourhood_cleansed</th>\n",
       "      <th>price</th>\n",
       "    </tr>\n",
       "  </thead>\n",
       "  <tbody>\n",
       "    <tr>\n",
       "      <th>0</th>\n",
       "      <td>Southeast Magnolia</td>\n",
       "      <td>231.705882</td>\n",
       "    </tr>\n",
       "    <tr>\n",
       "      <th>1</th>\n",
       "      <td>Portage Bay</td>\n",
       "      <td>227.857143</td>\n",
       "    </tr>\n",
       "    <tr>\n",
       "      <th>2</th>\n",
       "      <td>Westlake</td>\n",
       "      <td>194.470588</td>\n",
       "    </tr>\n",
       "    <tr>\n",
       "      <th>3</th>\n",
       "      <td>West Queen Anne</td>\n",
       "      <td>187.769231</td>\n",
       "    </tr>\n",
       "    <tr>\n",
       "      <th>4</th>\n",
       "      <td>Montlake</td>\n",
       "      <td>182.789474</td>\n",
       "    </tr>\n",
       "    <tr>\n",
       "      <th>...</th>\n",
       "      <td>...</td>\n",
       "      <td>...</td>\n",
       "    </tr>\n",
       "    <tr>\n",
       "      <th>82</th>\n",
       "      <td>North Delridge</td>\n",
       "      <td>76.375000</td>\n",
       "    </tr>\n",
       "    <tr>\n",
       "      <th>83</th>\n",
       "      <td>Georgetown</td>\n",
       "      <td>76.125000</td>\n",
       "    </tr>\n",
       "    <tr>\n",
       "      <th>84</th>\n",
       "      <td>South Delridge</td>\n",
       "      <td>74.666667</td>\n",
       "    </tr>\n",
       "    <tr>\n",
       "      <th>85</th>\n",
       "      <td>Olympic Hills</td>\n",
       "      <td>71.687500</td>\n",
       "    </tr>\n",
       "    <tr>\n",
       "      <th>86</th>\n",
       "      <td>Rainier Beach</td>\n",
       "      <td>68.555556</td>\n",
       "    </tr>\n",
       "  </tbody>\n",
       "</table>\n",
       "<p>87 rows × 2 columns</p>\n",
       "</div>"
      ],
      "text/plain": [
       "   neighbourhood_cleansed       price\n",
       "0      Southeast Magnolia  231.705882\n",
       "1             Portage Bay  227.857143\n",
       "2                Westlake  194.470588\n",
       "3         West Queen Anne  187.769231\n",
       "4                Montlake  182.789474\n",
       "..                    ...         ...\n",
       "82         North Delridge   76.375000\n",
       "83             Georgetown   76.125000\n",
       "84         South Delridge   74.666667\n",
       "85          Olympic Hills   71.687500\n",
       "86          Rainier Beach   68.555556\n",
       "\n",
       "[87 rows x 2 columns]"
      ]
     },
     "execution_count": 26,
     "metadata": {},
     "output_type": "execute_result"
    }
   ],
   "source": [
    "#investigation for question 2\n",
    "df_listings['price'] = df_listings['price'].apply(lambda x: np.nan if pd.isna(x) or x == 'NaN' else float(str(x).replace('$', '').replace(',', '')))\n",
    "\n",
    "df_listings.groupby(by='neighbourhood_cleansed').agg({'price' : \"mean\"}).sort_values(by='price', ascending=False).reset_index()"
   ]
  },
  {
   "cell_type": "code",
   "execution_count": 27,
   "id": "45157996",
   "metadata": {},
   "outputs": [],
   "source": [
    "#investigation for question 3\n",
    "most_expen_neighbor = list(df_listings.groupby(by='neighbourhood_cleansed').agg({'price' : \"mean\"}).sort_values(by='price', ascending=False).reset_index().head(5)['neighbourhood_cleansed'])\n",
    "main_property_types = ('Apartment','House')\n",
    "\n",
    "df_listings_q3 = df_listings.loc[df_listings['neighbourhood_cleansed'].isin(most_expen_neighbor)]\n",
    "df_listings_q3 = df_listings_q3.loc[df_listings['property_type'].isin(main_property_types)]\n",
    "\n",
    "df_listings_q3np = df_listings_q3.groupby(['neighbourhood_cleansed','property_type'])[['price']].mean().reset_index()\n",
    "\n",
    "\n"
   ]
  },
  {
   "cell_type": "code",
   "execution_count": null,
   "id": "0aa1910c",
   "metadata": {},
   "outputs": [],
   "source": []
  },
  {
   "cell_type": "code",
   "execution_count": 28,
   "id": "1c4942f8",
   "metadata": {},
   "outputs": [
    {
     "data": {
      "image/png": "[encoded data removed]",
      "text/plain": [
       "<Figure size 864x576 with 2 Axes>"
      ]
     },
     "metadata": {
      "needs_background": "light"
     },
     "output_type": "display_data"
    }
   ],
   "source": [
    "df_diff = df_listings_q3np.pivot('neighbourhood_cleansed', 'property_type', 'price')\n",
    "\n",
    "\n",
    "plt.figure(figsize=(12, 8))\n",
    "ax = sns.heatmap(df_diff, annot=True, fmt=\".2f\", cmap=\"RdYlGn_r\", linewidths=.5, linecolor='gray', cbar_kws={'label': 'Price'})\n",
    "df_diff['Difference'] = (df_diff['House'] - df_diff['Apartment']) / df_diff['Apartment']\n",
    "for y in range(df_diff.shape[0]):\n",
    "    for x in range(df_diff.shape[1]):\n",
    "        if df_diff.columns[x] == 'House':\n",
    "            diff = df_diff.iloc[y, 2]  \n",
    "            ax.text(x + 0.8, y + 0.8, f'\\n%increase={diff:.2f}', color='black', ha='center', va='center', fontsize=10)\n",
    "\n",
    "plt.title('Price Comparison between Neighbourhoods and Property Types')\n",
    "plt.show()"
   ]
  },
  {
   "cell_type": "markdown",
   "id": "f0698ca3",
   "metadata": {},
   "source": [
    "*Findings*\n",
    "- Q1 - Prices seem to vary by season, and around summer prices have a higher average price if compared to the other seasons\n",
    "- Q2 - Prices tend to vary by neighbourhood aswell, with Southeast Magnolia, Portage Bay and Westlake having an average price of 231.71, 227.86 and 194.47, respectively. On the other hand, the cheapest neighborhood are around the 70 usd per day\n",
    "- Q3 - Focusing on the most expensive neighborhoods, we can see that House Prices tend to be higher than apartment prices. It is interesting to note that these prices usually never surpass the 100% increase, with the exception of Portgage Bay, where prices increased by 200% and house prices in this neighboorhood are the highest, with 340."
   ]
  },
  {
   "cell_type": "markdown",
   "id": "30982492",
   "metadata": {},
   "source": [
    "# 4. Modeling"
   ]
  },
  {
   "cell_type": "markdown",
   "id": "6f3583a6",
   "metadata": {},
   "source": [
    "## Feature Creation\n",
    "\n",
    "- Can we predict the price of a given listing? What listing factors are most strongly correlated with price predictions?"
   ]
  },
  {
   "cell_type": "code",
   "execution_count": 29,
   "id": "68da6157",
   "metadata": {},
   "outputs": [
    {
     "data": {
      "text/plain": [
       "Index(['name', 'summary', 'space', 'description', 'experiences_offered',\n",
       "       'neighborhood_overview', 'notes', 'transit', 'host_name', 'host_since',\n",
       "       'host_location', 'host_about', 'host_response_time',\n",
       "       'host_response_rate', 'host_acceptance_rate', 'host_is_superhost',\n",
       "       'host_neighbourhood', 'host_listings_count',\n",
       "       'host_total_listings_count', 'host_has_profile_pic',\n",
       "       'host_identity_verified', 'neighbourhood_cleansed', 'city', 'state',\n",
       "       'market', 'country_code', 'is_location_exact', 'property_type',\n",
       "       'room_type', 'accommodates', 'bathrooms', 'bedrooms', 'beds',\n",
       "       'bed_type', 'amenities', 'square_feet', 'price', 'security_deposit',\n",
       "       'cleaning_fee', 'guests_included', 'extra_people', 'minimum_nights',\n",
       "       'maximum_nights', 'has_availability', 'availability_30',\n",
       "       'availability_60', 'availability_90', 'availability_365',\n",
       "       'number_of_reviews', 'review_scores_rating', 'review_scores_accuracy',\n",
       "       'review_scores_cleanliness', 'review_scores_checkin',\n",
       "       'review_scores_communication', 'review_scores_location',\n",
       "       'review_scores_value', 'requires_license', 'license',\n",
       "       'instant_bookable', 'cancellation_policy',\n",
       "       'require_guest_profile_picture', 'require_guest_phone_verification'],\n",
       "      dtype='object')"
      ]
     },
     "execution_count": 29,
     "metadata": {},
     "output_type": "execute_result"
    }
   ],
   "source": [
    "cols_less_impact = ['id','listing_url','scrape_id','last_scraped','thumbnail_url','medium_url','xl_picture_url','host_id','host_url','host_thumbnail_url','host_verifications','street','neighbourhood','neighbourhood_group_cleansed','zipcode','smart_location','country','latitude','longitude','weekly_price','monthly_price','calendar_updated','calendar_last_scraped','first_review','last_review','calculated_host_listings_count','reviews_per_month','picture_url','host_picture_url','jurisdiction_names']\n",
    "df_list = df_listings.drop(cols_less_impact, axis=1)\n",
    "df_list.columns"
   ]
  },
  {
   "cell_type": "code",
   "execution_count": 30,
   "id": "9323abf9",
   "metadata": {},
   "outputs": [],
   "source": [
    "#Removing columns with all missing values or constant columns\n",
    "columns_to_drop1 = df_list.columns[df_list.isna().all()]\n",
    "columns_to_drop2 = df_list.columns[df_list.nunique() == 1]\n",
    "\n",
    "columns_to_drop = columns_to_drop1.union(columns_to_drop2)\n",
    "\n",
    "df_list = df_list.drop(columns=columns_to_drop)"
   ]
  },
  {
   "cell_type": "code",
   "execution_count": 31,
   "id": "a827360a",
   "metadata": {},
   "outputs": [
    {
     "data": {
      "text/plain": [
       "host_listings_count               2\n",
       "host_total_listings_count         2\n",
       "accommodates                      0\n",
       "bathrooms                        16\n",
       "bedrooms                          6\n",
       "beds                              1\n",
       "square_feet                    3721\n",
       "price                             0\n",
       "guests_included                   0\n",
       "minimum_nights                    0\n",
       "maximum_nights                    0\n",
       "availability_30                   0\n",
       "availability_60                   0\n",
       "availability_90                   0\n",
       "availability_365                  0\n",
       "number_of_reviews                 0\n",
       "review_scores_rating            647\n",
       "review_scores_accuracy          658\n",
       "review_scores_cleanliness       653\n",
       "review_scores_checkin           658\n",
       "review_scores_communication     651\n",
       "review_scores_location          655\n",
       "review_scores_value             656\n",
       "dtype: int64"
      ]
     },
     "execution_count": 31,
     "metadata": {},
     "output_type": "execute_result"
    }
   ],
   "source": [
    " df_list.select_dtypes(include=['number']).isnull().sum()"
   ]
  },
  {
   "cell_type": "markdown",
   "id": "9aab7dd9",
   "metadata": {},
   "source": [
    " - bathrooms - There are 16 rows with Nan for bathrooms. Since it's a small percentage of rows, I have decided to set bathrooms to 1 for Nan values. For all listings on Airbnb, guests require access to a bathroom that has a sink, toilet, and shower or tub, so in these cases I am assuming at least one.\n",
    "\n",
    "- bedrooms - Every row with a NaN bedroom field have beds of at least one. So i am populating these with one\n",
    "\n",
    "- beds - For the 1 record that have beds as Nan, bed_type is specified as Real Bed, so I will set beds to 1 for this case.\n",
    "\n",
    "- square_feet - Almost every record is in blank. So we will drop this column.\n",
    "\n",
    "- review_scores columns - Since these are review related scores, I will be setting all Nan values to 0 assuming no review scores for these listings.\n",
    "\n",
    "- host_listings_count and host_total_listings_count - There are only 2 rows with no values. Looking at the data, I determined that these host IDs only have 1 record associated with them each, so I decided to populate with 1."
   ]
  },
  {
   "cell_type": "code",
   "execution_count": 32,
   "id": "9e510307",
   "metadata": {},
   "outputs": [],
   "source": [
    "# Set 0 for bathroom where bathroom is Nan\n",
    "df_list['bathrooms'] = df_list['bathrooms'].fillna(1)\n",
    "\n",
    "# Set 1 for bedrooms where bedrooms is Nan\n",
    "df_list['bedrooms'] = df_list['bedrooms'].fillna(1)\n",
    "\n",
    "# Set 1 for beds where beds is Nan\n",
    "df_list['beds'] = df_list['beds'].fillna(1)\n",
    "\n",
    "\n",
    "# Drop square_feet column\n",
    "df_list = df_list.drop('square_feet',axis=1)\n",
    "\n",
    "\n",
    "\n",
    "# Set all review scores columns with 0 for Nan values\n",
    "cols_fillna_0 = ['review_scores_rating','review_scores_accuracy','review_scores_cleanliness','review_scores_checkin','review_scores_communication','review_scores_location','review_scores_value']\n",
    "for col in cols_fillna_0:\n",
    "    df_list[col] = df_list[col].fillna(0)\n",
    "    \n",
    "    \n",
    "# Set host_listings_count and host_total_listings_count to 1\n",
    "df_list['host_listings_count'] = df_list['host_listings_count'].fillna(1)\n",
    "df_list['host_total_listings_count'] = df_list['host_total_listings_count'].fillna(1)"
   ]
  },
  {
   "cell_type": "code",
   "execution_count": 33,
   "id": "78cbc0f4",
   "metadata": {},
   "outputs": [
    {
     "data": {
      "text/plain": [
       "summary                    177\n",
       "space                      569\n",
       "neighborhood_overview     1032\n",
       "notes                     1606\n",
       "transit                    934\n",
       "host_name                    2\n",
       "host_since                   2\n",
       "host_location                8\n",
       "host_about                 859\n",
       "host_response_time         523\n",
       "host_response_rate         523\n",
       "host_acceptance_rate       773\n",
       "host_is_superhost            2\n",
       "host_neighbourhood         300\n",
       "host_has_profile_pic         2\n",
       "host_identity_verified       2\n",
       "property_type                1\n",
       "security_deposit          1952\n",
       "cleaning_fee              1030\n",
       "dtype: int64"
      ]
     },
     "execution_count": 33,
     "metadata": {},
     "output_type": "execute_result"
    }
   ],
   "source": [
    "#Checking the categorical columns with missing values now \n",
    "df_list.select_dtypes(include=['object']).isnull().sum()[df_list.select_dtypes(include=['object']).isnull().sum() >0]"
   ]
  },
  {
   "cell_type": "code",
   "execution_count": 34,
   "id": "a4158973",
   "metadata": {},
   "outputs": [
    {
     "data": {
      "text/plain": [
       "name                                0\n",
       "description                         0\n",
       "neighbourhood_cleansed              0\n",
       "city                                0\n",
       "state                               0\n",
       "is_location_exact                   0\n",
       "room_type                           0\n",
       "bed_type                            0\n",
       "amenities                           0\n",
       "extra_people                        0\n",
       "instant_bookable                    0\n",
       "cancellation_policy                 0\n",
       "require_guest_profile_picture       0\n",
       "require_guest_phone_verification    0\n",
       "dtype: int64"
      ]
     },
     "execution_count": 34,
     "metadata": {},
     "output_type": "execute_result"
    }
   ],
   "source": [
    "#Checking the categorical columns without missing values\n",
    "df_list.select_dtypes(include=['object']).isnull().sum()[df_list.select_dtypes(include=['object']).isnull().sum() ==0]"
   ]
  },
  {
   "cell_type": "markdown",
   "id": "74518e02",
   "metadata": {},
   "source": [
    "- summary, space, neighborhood_overview, notes, transit - these are all descriptions of the property. We will create boolean fields based on these features to try to see if properties with a description have an impact on their price prediction. - ok\n",
    "\n",
    "- host_name, host_since, host_location, host_about, host_picture_url, host_neighbourhood - I am also converting these to boolean, since these are descriptions about the host. - ok\n",
    "\n",
    "- host_response_time, host_acceptance_rate - When these fields are N/A, they can actually pass a message to the user. So I will create a category called N/A for these fields - ok\n",
    "\n",
    "- host_response_rate - Looking at the data, since this is a percentage value and the range is quite distributed, I will be converting this to float and setting N/A and blanks to 0\n",
    "\n",
    "- host_is_superhost, host_has_profile_pic, host_identity_verified - These are boolean fields with t or f values. Assign 1 for t, 0 for f and assign Nans with 0 - ok\n",
    "\n",
    "- property_type - Since this is just 1 record, we will just drop this record - ok\n",
    "\n",
    "- security_deposit - We will assume a 0 security deposit for where it is not specified. We will also remove dollar signs and convert to float - ok\n",
    "\n",
    "- cleaning_fee - We will assume a 0 cleaning_fee where it is not specified. We will also remove dollar signs and convert to float - ok\n",
    "\n",
    "\n",
    "\n",
    "###### The following fields do not have missing values, but it is important to cleanse these as well.\n",
    "\n",
    "- name, description, picture_url - these are also descriptive fields and will get the same treatment as summary, space, neighborhood_overview, notes, transit. - ok\n",
    "\n",
    "- is_location_exact, requires_license, instant_bookable, require_guest_profile_picture, require_guest_phone_verification - these fields have t/f values, will convert to 1/0. - ok\n",
    "\n",
    "- extra_people - Need to remove dollar sign and convert to float - ok\n",
    "\n",
    "\n",
    "- city - This field has almost all rows with \"Seattle\" as value and 6 other types of calling the city name, like \"seattle\", \"Seattle \", or \"West Seattle\". This doesn't add much information too, and we will drop this column\n",
    "\n",
    "- state - There are both \"WA\" and \"wa\" values for state. his doesn't add much information too, and we will drop this column\n",
    "\n",
    "- amenities - this field contains a list of values in each row, we will need to figure out how to handle this column\n",
    "\n",
    "\n"
   ]
  },
  {
   "cell_type": "code",
   "execution_count": 35,
   "id": "820fd0be",
   "metadata": {},
   "outputs": [],
   "source": [
    "def set_bool_text(textdata):\n",
    "    if not textdata or pd.isna(textdata):\n",
    "        return 0\n",
    "    else:\n",
    "        return 1\n",
    "\n",
    "text_fields = ['summary','space','neighborhood_overview','notes','transit','name','description','host_name','host_since','host_location','host_about','host_neighbourhood']\n",
    "for t in text_fields:\n",
    "    df_list[t] = df_list[t].apply(set_bool_text)"
   ]
  },
  {
   "cell_type": "code",
   "execution_count": 36,
   "id": "ef0d1ba9",
   "metadata": {},
   "outputs": [],
   "source": [
    "# Function to set all t/f fields to 1/0\n",
    "def set_bool_tf(tfdata):\n",
    "    if tfdata == 't':\n",
    "        return 1\n",
    "    else: \n",
    "        return 0\n",
    "\n",
    "tf_fields = ['host_is_superhost','host_has_profile_pic','host_identity_verified','is_location_exact','instant_bookable','require_guest_profile_picture','require_guest_phone_verification']\n",
    "for t in tf_fields:\n",
    "    df_list[t] = df_list[t].apply(set_bool_tf)"
   ]
  },
  {
   "cell_type": "code",
   "execution_count": 38,
   "id": "c4859ee5",
   "metadata": {},
   "outputs": [],
   "source": [
    "df_list['host_response_time'] = df_list['host_response_time'].fillna('N/A')\n",
    "df_list['host_acceptance_rate'] = df_list['host_acceptance_rate'].fillna('N/A')\n",
    "\n",
    "df_list['host_response_rate'] = df_list['host_response_rate'].fillna(0)\n",
    "df_list['host_response_rate'] = df_list['host_response_rate'].replace('[\\%,]', '', regex=True).astype(float)\n",
    "df_list['host_response_rate'].drop_duplicates()\n",
    "\n",
    "df_list = df_list.dropna(subset=['property_type'], axis=0)\n",
    "\n",
    "\n",
    "\n",
    "columns = ['security_deposit', 'cleaning_fee', 'extra_people']\n",
    "\n",
    "# Loop through the columns and apply the transformations\n",
    "for col in columns:\n",
    "    df_list[col] = df_list[col].replace('[\\$,]', '', regex=True).astype(float).fillna(0)\n",
    "    \n",
    "    \n",
    "df_list = df_list.drop(['city','state'], axis = 1)\n"
   ]
  },
  {
   "cell_type": "markdown",
   "id": "c7f4d7fd",
   "metadata": {},
   "source": [
    "###### Handling Amenities"
   ]
  },
  {
   "cell_type": "code",
   "execution_count": 45,
   "id": "4ea5d859",
   "metadata": {},
   "outputs": [
    {
     "name": "stderr",
     "output_type": "stream",
     "text": [
      "C:\\Users\\RENAN~1.PAR\\AppData\\Local\\Temp/ipykernel_17356/3402003421.py:4: FutureWarning: The default value of regex will change from True to False in a future version. In addition, single character regular expressions will *not* be treated as literal strings when regex=True.\n",
      "  amenities = [amenity for row in df_list['amenities'].str.replace('{', '').str.replace('}', '').str.replace('\"', '')\n"
     ]
    },
    {
     "data": {
      "text/plain": [
       "[('Wireless Internet', 3666),\n",
       " ('Heating', 3626),\n",
       " ('Kitchen', 3422),\n",
       " ('Smoke Detector', 3280),\n",
       " ('Essentials', 3237),\n",
       " ('Dryer', 2996),\n",
       " ('Washer', 2991),\n",
       " ('Internet', 2811),\n",
       " ('Shampoo', 2670),\n",
       " ('TV', 2574),\n",
       " ('Carbon Monoxide Detector', 2485),\n",
       " ('Fire Extinguisher', 2196),\n",
       " ('Free Parking on Premises', 2166),\n",
       " ('Family/Kid Friendly', 1962),\n",
       " ('First Aid Kit', 1679),\n",
       " ('Cable TV', 1446),\n",
       " ('Indoor Fireplace', 885),\n",
       " ('Pets live on this property', 882),\n",
       " ('Hangers', 846),\n",
       " ('Elevator in Building', 785),\n",
       " ('Hair Dryer', 774),\n",
       " ('Laptop Friendly Workspace', 745),\n",
       " ('Iron', 742),\n",
       " ('Safety Card', 727),\n",
       " ('Air Conditioning', 677),\n",
       " ('24-Hour Check-in', 616),\n",
       " ('Buzzer/Wireless Intercom', 538),\n",
       " ('Dog(s)', 508),\n",
       " ('Pets Allowed', 472),\n",
       " ('Gym', 442),\n",
       " ('Cat(s)', 382),\n",
       " ('Hot Tub', 303),\n",
       " ('Wheelchair Accessible', 300),\n",
       " ('Breakfast', 291),\n",
       " ('Suitable for Events', 209),\n",
       " ('Pool', 159),\n",
       " ('Lock on Bedroom Door', 100),\n",
       " ('Doorman', 85),\n",
       " ('Smoking Allowed', 82),\n",
       " ('Other pet(s)', 50),\n",
       " ('', 45),\n",
       " ('Washer / Dryer', 2)]"
      ]
     },
     "execution_count": 45,
     "metadata": {},
     "output_type": "execute_result"
    }
   ],
   "source": [
    "from collections import Counter\n",
    "\n",
    "# Process amenities and count occurrences\n",
    "amenities = [amenity for row in df_list['amenities'].str.replace('{', '').str.replace('}', '').str.replace('\"', '')\n",
    "             for amenity in row.split(',')]\n",
    "\n",
    "amenities_count = Counter(amenities)\n",
    "most_common_amenities = amenities_count.most_common()\n",
    "most_common_amenities"
   ]
  },
  {
   "cell_type": "code",
   "execution_count": 51,
   "id": "619c849e",
   "metadata": {},
   "outputs": [],
   "source": [
    "# Step 1: Identify amenities that appear at least 100 times\n",
    "common_amenities = [amenity for amenity, count in amenities_count.items() if count >= 100]\n",
    "\n",
    "# Step 2: Create a boolean column for each common amenity\n",
    "for amenity in common_amenities:\n",
    "    df_list[amenity] = df_list['amenities'].apply(lambda x: 1 if amenity in x else 0)\n",
    "\n",
    "df_list = df_list.drop('amenities', axis = 1)\n",
    "\n"
   ]
  },
  {
   "cell_type": "markdown",
   "id": "9fdbbe6f",
   "metadata": {},
   "source": [
    "- I decided to take those amenities that are 100 times. Taking only the amenities that appear frequently could hide some amenities that are not present very often, but when they do, they have an impact on the Price Predicted\n",
    "- Now, Finally, we need to create dummies for the categorical fields remaining and we are then prepared for modeling"
   ]
  },
  {
   "cell_type": "code",
   "execution_count": 53,
   "id": "53d70a86",
   "metadata": {},
   "outputs": [
    {
     "data": {
      "text/plain": [
       "Index(['host_response_time', 'host_acceptance_rate', 'neighbourhood_cleansed',\n",
       "       'property_type', 'room_type', 'bed_type', 'cancellation_policy'],\n",
       "      dtype='object')"
      ]
     },
     "execution_count": 53,
     "metadata": {},
     "output_type": "execute_result"
    }
   ],
   "source": [
    "df_list.select_dtypes(include=['object']).columns\n"
   ]
  },
  {
   "cell_type": "code",
   "execution_count": 55,
   "id": "7b54969a",
   "metadata": {},
   "outputs": [
    {
     "data": {
      "text/html": [
       "<div>\n",
       "<style scoped>\n",
       "    .dataframe tbody tr th:only-of-type {\n",
       "        vertical-align: middle;\n",
       "    }\n",
       "\n",
       "    .dataframe tbody tr th {\n",
       "        vertical-align: top;\n",
       "    }\n",
       "\n",
       "    .dataframe thead th {\n",
       "        text-align: right;\n",
       "    }\n",
       "</style>\n",
       "<table border=\"1\" class=\"dataframe\">\n",
       "  <thead>\n",
       "    <tr style=\"text-align: right;\">\n",
       "      <th></th>\n",
       "      <th>name</th>\n",
       "      <th>summary</th>\n",
       "      <th>space</th>\n",
       "      <th>description</th>\n",
       "      <th>neighborhood_overview</th>\n",
       "      <th>notes</th>\n",
       "      <th>transit</th>\n",
       "      <th>host_name</th>\n",
       "      <th>host_since</th>\n",
       "      <th>host_location</th>\n",
       "      <th>...</th>\n",
       "      <th>room_type_Private room</th>\n",
       "      <th>room_type_Shared room</th>\n",
       "      <th>bed_type_Airbed</th>\n",
       "      <th>bed_type_Couch</th>\n",
       "      <th>bed_type_Futon</th>\n",
       "      <th>bed_type_Pull-out Sofa</th>\n",
       "      <th>bed_type_Real Bed</th>\n",
       "      <th>cancellation_policy_flexible</th>\n",
       "      <th>cancellation_policy_moderate</th>\n",
       "      <th>cancellation_policy_strict</th>\n",
       "    </tr>\n",
       "  </thead>\n",
       "  <tbody>\n",
       "    <tr>\n",
       "      <th>0</th>\n",
       "      <td>1</td>\n",
       "      <td>0</td>\n",
       "      <td>1</td>\n",
       "      <td>1</td>\n",
       "      <td>0</td>\n",
       "      <td>0</td>\n",
       "      <td>0</td>\n",
       "      <td>1</td>\n",
       "      <td>1</td>\n",
       "      <td>1</td>\n",
       "      <td>...</td>\n",
       "      <td>0</td>\n",
       "      <td>0</td>\n",
       "      <td>0</td>\n",
       "      <td>0</td>\n",
       "      <td>0</td>\n",
       "      <td>0</td>\n",
       "      <td>1</td>\n",
       "      <td>0</td>\n",
       "      <td>1</td>\n",
       "      <td>0</td>\n",
       "    </tr>\n",
       "    <tr>\n",
       "      <th>1</th>\n",
       "      <td>1</td>\n",
       "      <td>1</td>\n",
       "      <td>1</td>\n",
       "      <td>1</td>\n",
       "      <td>1</td>\n",
       "      <td>1</td>\n",
       "      <td>1</td>\n",
       "      <td>1</td>\n",
       "      <td>1</td>\n",
       "      <td>1</td>\n",
       "      <td>...</td>\n",
       "      <td>0</td>\n",
       "      <td>0</td>\n",
       "      <td>0</td>\n",
       "      <td>0</td>\n",
       "      <td>0</td>\n",
       "      <td>0</td>\n",
       "      <td>1</td>\n",
       "      <td>0</td>\n",
       "      <td>0</td>\n",
       "      <td>1</td>\n",
       "    </tr>\n",
       "    <tr>\n",
       "      <th>2</th>\n",
       "      <td>1</td>\n",
       "      <td>1</td>\n",
       "      <td>1</td>\n",
       "      <td>1</td>\n",
       "      <td>1</td>\n",
       "      <td>1</td>\n",
       "      <td>1</td>\n",
       "      <td>1</td>\n",
       "      <td>1</td>\n",
       "      <td>1</td>\n",
       "      <td>...</td>\n",
       "      <td>0</td>\n",
       "      <td>0</td>\n",
       "      <td>0</td>\n",
       "      <td>0</td>\n",
       "      <td>0</td>\n",
       "      <td>0</td>\n",
       "      <td>1</td>\n",
       "      <td>0</td>\n",
       "      <td>0</td>\n",
       "      <td>1</td>\n",
       "    </tr>\n",
       "    <tr>\n",
       "      <th>3</th>\n",
       "      <td>1</td>\n",
       "      <td>1</td>\n",
       "      <td>0</td>\n",
       "      <td>1</td>\n",
       "      <td>0</td>\n",
       "      <td>0</td>\n",
       "      <td>0</td>\n",
       "      <td>1</td>\n",
       "      <td>1</td>\n",
       "      <td>1</td>\n",
       "      <td>...</td>\n",
       "      <td>0</td>\n",
       "      <td>0</td>\n",
       "      <td>0</td>\n",
       "      <td>0</td>\n",
       "      <td>0</td>\n",
       "      <td>0</td>\n",
       "      <td>1</td>\n",
       "      <td>1</td>\n",
       "      <td>0</td>\n",
       "      <td>0</td>\n",
       "    </tr>\n",
       "    <tr>\n",
       "      <th>4</th>\n",
       "      <td>1</td>\n",
       "      <td>1</td>\n",
       "      <td>1</td>\n",
       "      <td>1</td>\n",
       "      <td>1</td>\n",
       "      <td>1</td>\n",
       "      <td>1</td>\n",
       "      <td>1</td>\n",
       "      <td>1</td>\n",
       "      <td>1</td>\n",
       "      <td>...</td>\n",
       "      <td>0</td>\n",
       "      <td>0</td>\n",
       "      <td>0</td>\n",
       "      <td>0</td>\n",
       "      <td>0</td>\n",
       "      <td>0</td>\n",
       "      <td>1</td>\n",
       "      <td>0</td>\n",
       "      <td>0</td>\n",
       "      <td>1</td>\n",
       "    </tr>\n",
       "  </tbody>\n",
       "</table>\n",
       "<p>5 rows × 204 columns</p>\n",
       "</div>"
      ],
      "text/plain": [
       "   name  summary  space  description  neighborhood_overview  notes  transit  \\\n",
       "0     1        0      1            1                      0      0        0   \n",
       "1     1        1      1            1                      1      1        1   \n",
       "2     1        1      1            1                      1      1        1   \n",
       "3     1        1      0            1                      0      0        0   \n",
       "4     1        1      1            1                      1      1        1   \n",
       "\n",
       "   host_name  host_since  host_location  ...  room_type_Private room  \\\n",
       "0          1           1              1  ...                       0   \n",
       "1          1           1              1  ...                       0   \n",
       "2          1           1              1  ...                       0   \n",
       "3          1           1              1  ...                       0   \n",
       "4          1           1              1  ...                       0   \n",
       "\n",
       "   room_type_Shared room  bed_type_Airbed  bed_type_Couch  bed_type_Futon  \\\n",
       "0                      0                0               0               0   \n",
       "1                      0                0               0               0   \n",
       "2                      0                0               0               0   \n",
       "3                      0                0               0               0   \n",
       "4                      0                0               0               0   \n",
       "\n",
       "   bed_type_Pull-out Sofa  bed_type_Real Bed  cancellation_policy_flexible  \\\n",
       "0                       0                  1                             0   \n",
       "1                       0                  1                             0   \n",
       "2                       0                  1                             0   \n",
       "3                       0                  1                             1   \n",
       "4                       0                  1                             0   \n",
       "\n",
       "   cancellation_policy_moderate  cancellation_policy_strict  \n",
       "0                             1                           0  \n",
       "1                             0                           1  \n",
       "2                             0                           1  \n",
       "3                             0                           0  \n",
       "4                             0                           1  \n",
       "\n",
       "[5 rows x 204 columns]"
      ]
     },
     "execution_count": 55,
     "metadata": {},
     "output_type": "execute_result"
    }
   ],
   "source": [
    "# Get Dummies for categorical fields\n",
    "cat_fields = df_list.select_dtypes(include=['object']).columns\n",
    "\n",
    "df_list = pd.get_dummies(df_list, columns=cat_fields)\n",
    "df_list.head()"
   ]
  },
  {
   "cell_type": "markdown",
   "id": "6a493ced",
   "metadata": {},
   "source": [
    "## Model Creation"
   ]
  },
  {
   "cell_type": "code",
   "execution_count": 59,
   "id": "247c1cb4",
   "metadata": {},
   "outputs": [
    {
     "name": "stdout",
     "output_type": "stream",
     "text": [
      "(2671, 203) (2671,)\n",
      "(1146, 203) (1146,)\n"
     ]
    }
   ],
   "source": [
    "# Build out X and y, y to be price column and X to be all the other columns\n",
    "y = df_list['price']\n",
    "X = df_list.drop(['price'], axis=1)\n",
    "\n",
    "\n",
    "# Create train and test data sets\n",
    "X_train, X_test, y_train, y_test = train_test_split(X, y, test_size = .30, random_state=42) \n",
    "\n",
    "print(X_train.shape, y_train.shape)\n",
    "print(X_test.shape, y_test.shape)"
   ]
  },
  {
   "cell_type": "code",
   "execution_count": 61,
   "id": "d03ef6eb",
   "metadata": {},
   "outputs": [
    {
     "name": "stdout",
     "output_type": "stream",
     "text": [
      "The rsquared score on the training data was 0.5910990554692732.  The rsquared score on the test data was 0.5720830021022858.\n"
     ]
    }
   ],
   "source": [
    "# Instantiate linear regression model and fit it to training data set\n",
    "lm_model = LinearRegression(normalize=True) \n",
    "lm_model.fit(X_train, y_train) \n",
    "        \n",
    "# Predict and score the model\n",
    "y_train_preds = lm_model.predict(X_train)\n",
    "y_test_preds = lm_model.predict(X_test) \n",
    "train_score = r2_score(y_train, y_train_preds)\n",
    "test_score = r2_score(y_test,y_test_preds)\n",
    "print(\"The rsquared score on the training data was {}.  The rsquared score on the test data was {}.\".format(train_score, test_score))"
   ]
  },
  {
   "cell_type": "markdown",
   "id": "1bf4248c",
   "metadata": {},
   "source": [
    "To assess how important a feature is, we can examine the model's coefficients. The magnitude of each coefficient indicates the importance of the corresponding feature"
   ]
  },
  {
   "cell_type": "code",
   "execution_count": 63,
   "id": "8e766262",
   "metadata": {},
   "outputs": [
    {
     "name": "stdout",
     "output_type": "stream",
     "text": [
      "                                  Feature    Importance\n",
      "3                             description  3.345273e+16\n",
      "7                               host_name  1.343418e+16\n",
      "8                              host_since  1.343418e+16\n",
      "83        host_response_time_within a day  2.968898e+15\n",
      "82  host_response_time_a few days or more  2.968898e+15\n",
      "..                                    ...           ...\n",
      "32                       availability_365  2.063623e-02\n",
      "27                         minimum_nights  1.715997e-02\n",
      "11                     host_response_rate  1.184660e-02\n",
      "28                         maximum_nights  1.055081e-03\n",
      "31                        availability_90  5.628047e-04\n",
      "\n",
      "[203 rows x 2 columns]\n"
     ]
    }
   ],
   "source": [
    "# Get the coefficients from the linear model\n",
    "coefficients = lm_model.coef_\n",
    "\n",
    "feature_importance = pd.DataFrame({\n",
    "    'Feature': X_train.columns,\n",
    "    'Importance': np.abs(coefficients)\n",
    "})\n",
    "\n",
    "feature_importance = feature_importance.sort_values(by='Importance', ascending=False)\n",
    "\n",
    "print(feature_importance)"
   ]
  },
  {
   "cell_type": "code",
   "execution_count": 70,
   "id": "0fb9b389",
   "metadata": {},
   "outputs": [
    {
     "data": {
      "image/png": "[encoded data removed]",
      "text/plain": [
       "<Figure size 720x576 with 1 Axes>"
      ]
     },
     "metadata": {
      "needs_background": "light"
     },
     "output_type": "display_data"
    }
   ],
   "source": [
    "import matplotlib.pyplot as plt\n",
    "import seaborn as sns\n",
    "import pandas as pd\n",
    "\n",
    "def plot_feature_importance(feature_importance, top_n=10, include_others=True):\n",
    "    '''\n",
    "    Plots the top N most important features in a bar chart and optionally includes an \"Others\" bar.\n",
    "\n",
    "    Parameters:\n",
    "    feature_importance (DataFrame): DataFrame containing feature names and their importance values.\n",
    "    top_n (int): Number of top features to display.\n",
    "    include_others (bool): Whether to include a bar for the \"Others\" category.\n",
    "\n",
    "    Returns:\n",
    "    None\n",
    "    '''\n",
    "    \n",
    "    feature_importance = feature_importance.sort_values(by='Importance', ascending=False)\n",
    "\n",
    "    top_features = feature_importance.head(top_n)\n",
    "\n",
    "    if include_others:\n",
    "        others_importance = feature_importance.iloc[top_n:]['Importance'].sum()\n",
    "\n",
    "        top_features = top_features.append(pd.DataFrame({\n",
    "            'Feature': ['Others'],\n",
    "            'Importance': [others_importance]\n",
    "        }), ignore_index=True)\n",
    "\n",
    "    plt.figure(figsize=(10, 8))\n",
    "    sns.barplot(x='Importance', y='Feature', data=top_features, palette='viridis')\n",
    "\n",
    "    plt.title(f'Top {top_n} Most Important Features' + (' with \"Others\"' if include_others else ''))\n",
    "    plt.xlabel('Importance (Absolute Coefficient Value)')\n",
    "    plt.ylabel('Features')\n",
    "\n",
    "    plt.show()\n",
    "\n",
    "plot_feature_importance(feature_importance, top_n=20, include_others=False)\n"
   ]
  },
  {
   "cell_type": "markdown",
   "id": "d897de4b",
   "metadata": {},
   "source": [
    "The R2 Score achieved was 0.57 for the test data. By analising the most important features, we can see that the most important features are a combination of the descriptive features about the listing and the host and how the host behaves towards possible listings, like its response_time delay, acceptance_rate and cancelation policy. After that, features involving the neighbourhood start having a great impact."
   ]
  }
 ],
 "metadata": {
  "kernelspec": {
   "display_name": "Python 3 (ipykernel)",
   "language": "python",
   "name": "python3"
  },
  "language_info": {
   "codemirror_mode": {
    "name": "ipython",
    "version": 3
   },
   "file_extension": ".py",
   "mimetype": "text/x-python",
   "name": "python",
   "nbconvert_exporter": "python",
   "pygments_lexer": "ipython3",
   "version": "3.9.7"
  }
 },
 "nbformat": 4,
 "nbformat_minor": 5
}
